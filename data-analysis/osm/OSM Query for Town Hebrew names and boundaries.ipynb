{
 "cells": [
  {
   "cell_type": "markdown",
   "metadata": {},
   "source": [
    "## Download data from OSM"
   ]
  },
  {
   "cell_type": "code",
   "execution_count": 2,
   "metadata": {
    "scrolled": true
   },
   "outputs": [
    {
     "name": "stdout",
     "output_type": "stream",
     "text": [
      "--2021-12-24 08:35:40--  https://download.openstreetmap.fr/extracts/asia/israel.osm.pbf\n",
      "Resolving download.openstreetmap.fr (download.openstreetmap.fr)... 2a01:e0d:1:c:58bf:fac1:0:14, 213.36.253.212\n",
      "Connecting to download.openstreetmap.fr (download.openstreetmap.fr)|2a01:e0d:1:c:58bf:fac1:0:14|:443... connected.\n",
      "HTTP request sent, awaiting response... 200 OK\n",
      "Length: 79738628 (76M)\n",
      "Saving to: ‘israel.osm.pbf’\n",
      "\n",
      "israel.osm.pbf      100%[===================>]  76.04M  9.69MB/s    in 7.7s    \n",
      "\n",
      "2021-12-24 08:35:48 (9.89 MB/s) - ‘israel.osm.pbf’ saved [79738628/79738628]\n",
      "\n",
      "--2021-12-24 08:35:48--  https://download.openstreetmap.fr/extracts/asia/palestine.osm.pbf\n",
      "Resolving download.openstreetmap.fr (download.openstreetmap.fr)... 2a01:e0d:1:c:58bf:fac1:0:14, 213.36.253.212\n",
      "Connecting to download.openstreetmap.fr (download.openstreetmap.fr)|2a01:e0d:1:c:58bf:fac1:0:14|:443... connected.\n",
      "HTTP request sent, awaiting response... 200 OK\n",
      "Length: 33443399 (32M)\n",
      "Saving to: ‘palestine.osm.pbf’\n",
      "\n",
      "palestine.osm.pbf   100%[===================>]  31.89M  9.54MB/s    in 3.7s    \n",
      "\n",
      "2021-12-24 08:35:52 (8.60 MB/s) - ‘palestine.osm.pbf’ saved [33443399/33443399]\n",
      "\n"
     ]
    }
   ],
   "source": [
    "!wget https://download.openstreetmap.fr/extracts/asia/israel.osm.pbf\n",
    "!wget https://download.openstreetmap.fr/extracts/asia/palestine.osm.pbf"
   ]
  },
  {
   "cell_type": "markdown",
   "metadata": {},
   "source": [
    "## Convert to gpkg"
   ]
  },
  {
   "cell_type": "code",
   "execution_count": 3,
   "metadata": {},
   "outputs": [
    {
     "name": "stdout",
     "output_type": "stream",
     "text": [
      "0...10...20...30...40...50...60...70...80...90...100 - done.\n",
      "0...10...20...30...40...50...60...70...80...90...100 - done.\n"
     ]
    }
   ],
   "source": [
    "!ogr2ogr israel.osm.gpkg israel.osm.pbf\n",
    "!ogr2ogr palestine.osm.gpkg palestine.osm.pbf"
   ]
  },
  {
   "cell_type": "code",
   "execution_count": 4,
   "metadata": {},
   "outputs": [
    {
     "data": {
      "text/plain": [
       "['points', 'lines', 'multilinestrings', 'multipolygons', 'other_relations']"
      ]
     },
     "execution_count": 4,
     "metadata": {},
     "output_type": "execute_result"
    }
   ],
   "source": [
    "import fiona\n",
    "fiona.listlayers('israel.osm.gpkg')"
   ]
  },
  {
   "cell_type": "markdown",
   "metadata": {},
   "source": [
    "## Hebrew Labels"
   ]
  },
  {
   "cell_type": "code",
   "execution_count": 1,
   "metadata": {},
   "outputs": [
    {
     "name": "stderr",
     "output_type": "stream",
     "text": [
      "/Users/adam/.pyenv/versions/3.7.8/lib/python3.7/site-packages/pandas/compat/__init__.py:120: UserWarning: Could not import the lzma module. Your installed Python is incomplete. Attempting to use lzma compression will result in a RuntimeError.\n",
      "  warnings.warn(msg)\n"
     ]
    },
    {
     "name": "stdout",
     "output_type": "stream",
     "text": [
      "[['settlement-major-label', 'settlement', 'city', 'عمان\\u200e', 'Amman', 7, 1, 'bottom-left'], ['settlement-minor-label', 'settlement', 'city', 'العريش', 'Al Arish', 11, 3, 'bottom'], ['settlement-minor-label', 'settlement', 'city', 'الخليل', 'Hebron', 10, 3, 'bottom'], ['settlement-minor-label', 'settlement', 'city', 'العقبة', 'Aqaba', 11, 3, 'bottom'], ['settlement-minor-label', 'settlement', 'city', 'ערד', 'Arad', 9, 2, 'bottom'], ['settlement-minor-label', 'settlement', 'city', 'غزة', 'Gaza', 9, 2, 'bottom'], ['settlement-minor-label', 'settlement', 'city', 'באר שבע', 'Beer Sheva', 9, 1, 'bottom'], ['settlement-minor-label', 'settlement', 'city', 'ירושלים', 'Jerusalem', 8, 1, 'bottom'], ['settlement-minor-label', 'settlement', 'city', 'القريات', 'Qurayyat', 13, 1, 'bottom'], ['settlement-minor-label', 'settlement', 'city', 'חיפה', 'Haifa', 10, 3, 'bottom']]\n",
      "['settlement-major-label', 'settlement', 'village', 'שדה בוקר', 'Sde Boker', 14, 1, 'bottom']\n",
      "2562\n",
      "5074\n",
      "using checkpoint data from .checkpoints/heb_labels\n"
     ]
    },
    {
     "data": {
      "text/html": [
       "<h3>place_labels_he</h3>"
      ],
      "text/plain": [
       "<IPython.core.display.HTML object>"
      ]
     },
     "metadata": {},
     "output_type": "display_data"
    },
    {
     "name": "stdout",
     "output_type": "stream",
     "text": [
      "Found 1319/1453\n",
      "Found 725/905\n"
     ]
    },
    {
     "data": {
      "text/html": [
       "<table>\n",
       "<thead>\n",
       "<tr><th>#   </th><th>place\n",
       "(string)        </th><th>name\n",
       "(string)              </th><th>geometry\n",
       "(geopoint)                                         </th><th style=\"text-align: right;\">  filterrank\n",
       "(integer)</th><th style=\"text-align: right;\">   symbolrank\n",
       "(integer)</th><th>text_anchor\n",
       "(string)       </th><th>class\n",
       "(string)           </th><th>worldview\n",
       "(string)    </th><th>name_script\n",
       "(string)       </th><th style=\"text-align: right;\">  capital\n",
       "(integer)</th><th>disputed\n",
       "(boolean)      </th></tr>\n",
       "</thead>\n",
       "<tbody>\n",
       "<tr><td>1   </td><td>city   </td><td>אילת         </td><td>[34.9497949, 29.5569348]                </td><td style=\"text-align: right;\">1</td><td style=\"text-align: right;\">12</td><td>bottom</td><td>settlement</td><td>all</td><td>Hebrew</td><td style=\"text-align: right;\">0</td><td>False</td></tr>\n",
       "<tr><td>2   </td><td>city   </td><td>ירושלים      </td><td>[35.2257626, 31.778824200000003]        </td><td style=\"text-align: right;\">1</td><td style=\"text-align: right;\"> 8</td><td>bottom</td><td>settlement</td><td>all</td><td>Hebrew</td><td style=\"text-align: right;\">2</td><td>False</td></tr>\n",
       "<tr><td>3   </td><td>village</td><td>יבנאל        </td><td>[35.5060043, 32.7026978]                </td><td style=\"text-align: right;\">3</td><td style=\"text-align: right;\">18</td><td>bottom</td><td>settlement</td><td>all</td><td>Hebrew</td><td style=\"text-align: right;\">0</td><td>False</td></tr>\n",
       "<tr><td>4   </td><td>town   </td><td>קיסריה       </td><td>[34.9057861, 32.5114971]                </td><td style=\"text-align: right;\">1</td><td style=\"text-align: right;\">13</td><td>bottom</td><td>settlement</td><td>all</td><td>Hebrew</td><td style=\"text-align: right;\">0</td><td>False</td></tr>\n",
       "<tr><td>5   </td><td>city   </td><td>נהריה        </td><td>[35.094557900000005, 33.006306]         </td><td style=\"text-align: right;\">1</td><td style=\"text-align: right;\">12</td><td>bottom</td><td>settlement</td><td>all</td><td>Hebrew</td><td style=\"text-align: right;\">0</td><td>False</td></tr>\n",
       "<tr><td>6   </td><td>village</td><td>שדות ים      </td><td>[34.8933053, 32.492159300000004]        </td><td style=\"text-align: right;\">1</td><td style=\"text-align: right;\">14</td><td>bottom</td><td>settlement</td><td>all</td><td>Hebrew</td><td style=\"text-align: right;\">0</td><td>False</td></tr>\n",
       "<tr><td>7   </td><td>town   </td><td>אור יהודה    </td><td>[34.8523936, 32.0309712]                </td><td style=\"text-align: right;\">1</td><td style=\"text-align: right;\">12</td><td>bottom</td><td>settlement</td><td>all</td><td>Hebrew</td><td style=\"text-align: right;\">0</td><td>False</td></tr>\n",
       "<tr><td>8   </td><td>town   </td><td>נס ציונה     </td><td>[34.7990609, 31.929557700000004]        </td><td style=\"text-align: right;\">1</td><td style=\"text-align: right;\">12</td><td>bottom</td><td>settlement</td><td>all</td><td>Hebrew</td><td style=\"text-align: right;\">0</td><td>False</td></tr>\n",
       "<tr><td>9   </td><td>town   </td><td>נוף הגליל    </td><td>[35.318321600000004, 32.7023065]        </td><td style=\"text-align: right;\">1</td><td style=\"text-align: right;\">12</td><td>bottom</td><td>settlement</td><td>all</td><td>Hebrew</td><td style=\"text-align: right;\">0</td><td>False</td></tr>\n",
       "<tr><td>10  </td><td>village</td><td>אבו גוש      </td><td>[35.1088651, 31.806353]                 </td><td style=\"text-align: right;\">1</td><td style=\"text-align: right;\">14</td><td>bottom</td><td>settlement</td><td>all</td><td>Hebrew</td><td style=\"text-align: right;\">0</td><td>False</td></tr>\n",
       "<tr><td>11  </td><td>village</td><td>קרית יערים   </td><td>[35.1012545, 31.803512800000004]        </td><td style=\"text-align: right;\">3</td><td style=\"text-align: right;\">17</td><td>bottom</td><td>settlement</td><td>all</td><td>Hebrew</td><td style=\"text-align: right;\">0</td><td>False</td></tr>\n",
       "<tr><td>12  </td><td>town   </td><td>הר אדר       </td><td>[35.1295577, 31.826857]                 </td><td style=\"text-align: right;\">1</td><td style=\"text-align: right;\">13</td><td>bottom</td><td>settlement</td><td>all</td><td>Hebrew</td><td style=\"text-align: right;\">0</td><td>False</td></tr>\n",
       "<tr><td>13  </td><td>village</td><td>מעלה החמישה  </td><td>[35.1115939, 31.817485700000002]        </td><td style=\"text-align: right;\">2</td><td style=\"text-align: right;\">14</td><td>bottom</td><td>settlement</td><td>all</td><td>Hebrew</td><td style=\"text-align: right;\">0</td><td>False</td></tr>\n",
       "<tr><td>14  </td><td>town   </td><td>באר יעקב     </td><td>[34.8398648, 31.944353200000002]        </td><td style=\"text-align: right;\">1</td><td style=\"text-align: right;\">13</td><td>bottom</td><td>settlement</td><td>all</td><td>Hebrew</td><td style=\"text-align: right;\">0</td><td>False</td></tr>\n",
       "<tr><td>15  </td><td>village</td><td>גליל ים      </td><td>[34.829987100000004, 32.1568799]        </td><td style=\"text-align: right;\">2</td><td style=\"text-align: right;\">14</td><td>bottom</td><td>settlement</td><td>all</td><td>Hebrew</td><td style=\"text-align: right;\">0</td><td>False</td></tr>\n",
       "<tr><td>16  </td><td>village</td><td>בית יהושע    </td><td>[34.8660021, 32.259291600000005]        </td><td style=\"text-align: right;\">1</td><td style=\"text-align: right;\">18</td><td>bottom</td><td>settlement</td><td>all</td><td>Hebrew</td><td style=\"text-align: right;\">0</td><td>False</td></tr>\n",
       "<tr><td>17  </td><td>village</td><td>תל יצחק      </td><td>[34.8696976, 32.2527746]                </td><td style=\"text-align: right;\">2</td><td style=\"text-align: right;\">18</td><td>bottom</td><td>settlement</td><td>all</td><td>Hebrew</td><td style=\"text-align: right;\">0</td><td>False</td></tr>\n",
       "<tr><td>18  </td><td>town   </td><td>אבן יהודה    </td><td>[34.886767, 32.272485200000006]         </td><td style=\"text-align: right;\">1</td><td style=\"text-align: right;\">14</td><td>bottom</td><td>settlement</td><td>all</td><td>Hebrew</td><td style=\"text-align: right;\">0</td><td>False</td></tr>\n",
       "<tr><td>19  </td><td>town   </td><td>ראש העין     </td><td>[34.9533225, 32.095292900000004]        </td><td style=\"text-align: right;\">1</td><td style=\"text-align: right;\">14</td><td>bottom</td><td>settlement</td><td>all</td><td>Hebrew</td><td style=\"text-align: right;\">0</td><td>False</td></tr>\n",
       "<tr><td>20  </td><td>village</td><td>כפר סירקין   </td><td>[34.923507300000004, 32.0777377]        </td><td style=\"text-align: right;\">2</td><td style=\"text-align: right;\">18</td><td>bottom</td><td>settlement</td><td>all</td><td>Hebrew</td><td style=\"text-align: right;\">0</td><td>False</td></tr>\n",
       "<tr><td>... </td><td>       </td><td>             </td><td>                                        </td><td style=\"text-align: right;\"> </td><td style=\"text-align: right;\">  </td><td>      </td><td>          </td><td>   </td><td>      </td><td style=\"text-align: right;\"> </td><td>     </td></tr>\n",
       "<tr><td>100 </td><td>village</td><td>עין הוד      </td><td>[34.982596400000006, 32.700501700000004]</td><td style=\"text-align: right;\">2</td><td style=\"text-align: right;\">18</td><td>bottom</td><td>settlement</td><td>all</td><td>Hebrew</td><td style=\"text-align: right;\">0</td><td>False</td></tr>\n",
       "<tr><td>101 </td><td>village</td><td>חפציבה       </td><td>[35.425832400000004, 32.5181674]        </td><td style=\"text-align: right;\">1</td><td style=\"text-align: right;\">18</td><td>bottom</td><td>settlement</td><td>all</td><td>Hebrew</td><td style=\"text-align: right;\">0</td><td>False</td></tr>\n",
       "<tr><td>102 </td><td>town   </td><td>בני ברק      </td><td>[34.8324376, 32.087389900000005]        </td><td style=\"text-align: right;\">1</td><td style=\"text-align: right;\">11</td><td>bottom</td><td>settlement</td><td>all</td><td>Hebrew</td><td style=\"text-align: right;\">0</td><td>False</td></tr>\n",
       "<tr><td>103 </td><td>town   </td><td>גבעתיים      </td><td>[34.8113279, 32.0729606]                </td><td style=\"text-align: right;\">2</td><td style=\"text-align: right;\">12</td><td>bottom</td><td>settlement</td><td>all</td><td>Hebrew</td><td style=\"text-align: right;\">0</td><td>False</td></tr>\n",
       "<tr><td>104 </td><td>village</td><td>כפר חיים     </td><td>[34.9001418, 32.3539817]                </td><td style=\"text-align: right;\">1</td><td style=\"text-align: right;\">18</td><td>bottom</td><td>settlement</td><td>all</td><td>Hebrew</td><td style=\"text-align: right;\">0</td><td>False</td></tr>\n",
       "<tr><td>105 </td><td>village</td><td>משמר השרון   </td><td>[34.903359300000005, 32.3564792]        </td><td style=\"text-align: right;\">2</td><td style=\"text-align: right;\">18</td><td>bottom</td><td>settlement</td><td>all</td><td>Hebrew</td><td style=\"text-align: right;\">0</td><td>False</td></tr>\n",
       "<tr><td>106 </td><td>village</td><td>כפר מונש     </td><td>[34.9162242, 32.347534800000005]        </td><td style=\"text-align: right;\">1</td><td style=\"text-align: right;\">18</td><td>bottom</td><td>settlement</td><td>all</td><td>Hebrew</td><td style=\"text-align: right;\">0</td><td>False</td></tr>\n",
       "<tr><td>107 </td><td>village</td><td>גאולים       </td><td>[34.947401400000004, 32.2962452]        </td><td style=\"text-align: right;\">1</td><td style=\"text-align: right;\">18</td><td>bottom</td><td>settlement</td><td>all</td><td>Hebrew</td><td style=\"text-align: right;\">0</td><td>False</td></tr>\n",
       "<tr><td>108 </td><td>village</td><td>צורן         </td><td>[34.9450516, 32.288103]                 </td><td style=\"text-align: right;\">2</td><td style=\"text-align: right;\">18</td><td>bottom</td><td>settlement</td><td>all</td><td>Hebrew</td><td style=\"text-align: right;\">0</td><td>False</td></tr>\n",
       "<tr><td>109 </td><td>town   </td><td>קלנסווה      </td><td>[34.9801701, 32.284860300000005]        </td><td style=\"text-align: right;\">1</td><td style=\"text-align: right;\">14</td><td>bottom</td><td>settlement</td><td>all</td><td>Hebrew</td><td style=\"text-align: right;\">0</td><td>False</td></tr>\n",
       "<tr><td>110 </td><td>village</td><td>ניצני עוז    </td><td>[35.0048861, 32.3054855]                </td><td style=\"text-align: right;\">1</td><td style=\"text-align: right;\">18</td><td>bottom</td><td>settlement</td><td>all</td><td>Hebrew</td><td style=\"text-align: right;\">0</td><td>False</td></tr>\n",
       "<tr><td>... </td><td>       </td><td>             </td><td>                                        </td><td style=\"text-align: right;\"> </td><td style=\"text-align: right;\">  </td><td>      </td><td>          </td><td>   </td><td>      </td><td style=\"text-align: right;\"> </td><td>     </td></tr>\n",
       "<tr><td>1000</td><td>village</td><td>אל-חמידייה   </td><td>[35.8478684, 33.1562666]                </td><td style=\"text-align: right;\">1</td><td style=\"text-align: right;\">18</td><td>bottom</td><td>settlement</td><td>all</td><td>Hebrew</td><td style=\"text-align: right;\">0</td><td>False</td></tr>\n",
       "<tr><td>1001</td><td>village</td><td>קונייטרה     </td><td>[35.824942, 33.124688500000005]         </td><td style=\"text-align: right;\">1</td><td style=\"text-align: right;\">13</td><td>bottom</td><td>settlement</td><td>all</td><td>Hebrew</td><td style=\"text-align: right;\">0</td><td>False</td></tr>\n",
       "<tr><td>1002</td><td>village</td><td>עין עאיתה    </td><td>[35.8838543, 32.9726002]                </td><td style=\"text-align: right;\">1</td><td style=\"text-align: right;\">18</td><td>bottom</td><td>settlement</td><td>all</td><td>Hebrew</td><td style=\"text-align: right;\">0</td><td>False</td></tr>\n",
       "<tr><td>1003</td><td>village</td><td>אל סבאח      </td><td>[35.885073500000004, 32.9800813]        </td><td style=\"text-align: right;\">2</td><td style=\"text-align: right;\">18</td><td>bottom</td><td>settlement</td><td>all</td><td>Hebrew</td><td style=\"text-align: right;\">0</td><td>False</td></tr>\n",
       "<tr><td>1004</td><td>village</td><td>אל בוטיחה    </td><td>[35.9113034, 32.9364057]                </td><td style=\"text-align: right;\">1</td><td style=\"text-align: right;\">18</td><td>bottom</td><td>settlement</td><td>all</td><td>Hebrew</td><td style=\"text-align: right;\">0</td><td>False</td></tr>\n",
       "<tr><td>1005</td><td>village</td><td>معلقة        </td><td>[35.8931684, 32.9170652]                </td><td style=\"text-align: right;\">1</td><td style=\"text-align: right;\">18</td><td>bottom</td><td>settlement</td><td>all</td><td>Hebrew</td><td style=\"text-align: right;\">0</td><td>False</td></tr>\n",
       "<tr><td>1006</td><td>village</td><td>אל רפיד      </td><td>[35.8990875, 32.955660900000005]        </td><td style=\"text-align: right;\">1</td><td style=\"text-align: right;\">18</td><td>bottom</td><td>settlement</td><td>all</td><td>Hebrew</td><td style=\"text-align: right;\">0</td><td>False</td></tr>\n",
       "<tr><td>1007</td><td>village</td><td>معرية        </td><td>[35.7994008, 32.7646235]                </td><td style=\"text-align: right;\">1</td><td style=\"text-align: right;\">18</td><td>bottom</td><td>settlement</td><td>all</td><td>Hebrew</td><td style=\"text-align: right;\">0</td><td>False</td></tr>\n",
       "<tr><td>1008</td><td>hamlet </td><td>خربة الكوكيوح</td><td>[35.860089900000006, 32.8429467]        </td><td style=\"text-align: right;\">2</td><td style=\"text-align: right;\">18</td><td>bottom</td><td>settlement</td><td>all</td><td>Hebrew</td><td style=\"text-align: right;\">0</td><td>False</td></tr>\n",
       "<tr><td>1009</td><td>village</td><td>אלוני הבשן   </td><td>[35.839165300000005, 33.0440867]        </td><td style=\"text-align: right;\">1</td><td style=\"text-align: right;\">14</td><td>bottom</td><td>settlement</td><td>all</td><td>Hebrew</td><td style=\"text-align: right;\">0</td><td>False</td></tr>\n",
       "<tr><td>1010</td><td>hamlet </td><td>עזר          </td><td>[34.6714475, 31.736507200000002]        </td><td style=\"text-align: right;\">2</td><td style=\"text-align: right;\">18</td><td>bottom</td><td>settlement</td><td>all</td><td>Hebrew</td><td style=\"text-align: right;\">0</td><td>False</td></tr>\n",
       "<tr><td>... </td><td>       </td><td>             </td><td>                                        </td><td style=\"text-align: right;\"> </td><td style=\"text-align: right;\">  </td><td>      </td><td>          </td><td>   </td><td>      </td><td style=\"text-align: right;\"> </td><td>     </td></tr>\n",
       "<tr><td>2035</td><td>hamlet </td><td>אל-ר&#x27;ואליה   </td><td>[35.3045895, 31.813302200000003]        </td><td style=\"text-align: right;\">1</td><td style=\"text-align: right;\">18</td><td>bottom</td><td>settlement</td><td>all</td><td>Hebrew</td><td style=\"text-align: right;\">0</td><td>False</td></tr>\n",
       "<tr><td>2036</td><td>hamlet </td><td>אל-פקרא      </td><td>[35.2993067, 31.8116951]                </td><td style=\"text-align: right;\">2</td><td style=\"text-align: right;\">18</td><td>bottom</td><td>settlement</td><td>all</td><td>Hebrew</td><td style=\"text-align: right;\">0</td><td>False</td></tr>\n",
       "<tr><td>2037</td><td>hamlet </td><td>נחילה        </td><td>[35.2952299, 31.816169100000003]        </td><td style=\"text-align: right;\">3</td><td style=\"text-align: right;\">18</td><td>bottom</td><td>settlement</td><td>all</td><td>Hebrew</td><td style=\"text-align: right;\">0</td><td>False</td></tr>\n",
       "<tr><td>2038</td><td>hamlet </td><td>ברוש הבקעה   </td><td>[35.542120700000005, 32.3194536]        </td><td style=\"text-align: right;\">1</td><td style=\"text-align: right;\">18</td><td>bottom</td><td>settlement</td><td>all</td><td>Hebrew</td><td style=\"text-align: right;\">0</td><td>False</td></tr>\n",
       "<tr><td>2039</td><td>town   </td><td>אל-מע&#x27;אזי    </td><td>[34.384724600000006, 31.4217012]        </td><td style=\"text-align: right;\">1</td><td style=\"text-align: right;\">13</td><td>bottom</td><td>settlement</td><td>all</td><td>Hebrew</td><td style=\"text-align: right;\">0</td><td>False</td></tr>\n",
       "<tr><td>2040</td><td>town   </td><td>מ.פ. קלנדיה  </td><td>[35.227045700000005, 31.8705269]        </td><td style=\"text-align: right;\">1</td><td style=\"text-align: right;\">18</td><td>bottom</td><td>settlement</td><td>all</td><td>Hebrew</td><td style=\"text-align: right;\">0</td><td>False</td></tr>\n",
       "<tr><td>2041</td><td>village</td><td>אל - האשמיה  </td><td>[35.2216548, 32.4653091]                </td><td style=\"text-align: right;\">1</td><td style=\"text-align: right;\">18</td><td>bottom</td><td>settlement</td><td>all</td><td>Hebrew</td><td style=\"text-align: right;\">0</td><td>False</td></tr>\n",
       "<tr><td>2042</td><td>village</td><td>אל-ח&#x27;ולג&#x27;אן  </td><td>[35.1450353, 32.4548116]                </td><td style=\"text-align: right;\">1</td><td style=\"text-align: right;\">18</td><td>bottom</td><td>settlement</td><td>all</td><td>Hebrew</td><td style=\"text-align: right;\">0</td><td>False</td></tr>\n",
       "<tr><td>2043</td><td>hamlet </td><td>חרבת אל-חמאם </td><td>[35.128312, 32.418869300000004]         </td><td style=\"text-align: right;\">1</td><td style=\"text-align: right;\">18</td><td>bottom</td><td>settlement</td><td>all</td><td>Hebrew</td><td style=\"text-align: right;\">0</td><td>False</td></tr>\n",
       "<tr><td>2044</td><td>village</td><td>אום א-תות    </td><td>[35.3445552, 32.4326511]                </td><td style=\"text-align: right;\">2</td><td style=\"text-align: right;\">18</td><td>bottom</td><td>settlement</td><td>all</td><td>Hebrew</td><td style=\"text-align: right;\">0</td><td>False</td></tr>\n",
       "</tbody>\n",
       "</table>"
      ],
      "text/plain": [
       "<IPython.core.display.HTML object>"
      ]
     },
     "metadata": {},
     "output_type": "display_data"
    }
   ],
   "source": [
    "import dataflows as DF\n",
    "import fiona\n",
    "import pghstore\n",
    "import json\n",
    "from fuzzywuzzy import process, fuzz\n",
    "\n",
    "FILES = ['israel', 'palestine']\n",
    "sources = [fiona.open(f'{f}.osm.gpkg', layer='points').filter() for f in FILES]\n",
    "with open('ranks.json') as ranks:\n",
    "    RANKS = list(json.load(ranks).values())\n",
    "    RANKS_MAP = {}\n",
    "    RANK_NAMES = []\n",
    "    for r in RANKS:\n",
    "        RANKS_MAP[r[3]] = r\n",
    "        RANKS_MAP[r[4]] = r\n",
    "        RANK_NAMES.extend([r[3], r[4]])\n",
    "RANK_NAMES = [n for n in RANK_NAMES if n]\n",
    "print(RANKS[:10])\n",
    "print(RANKS_MAP['שדה בוקר'])\n",
    "print(len(RANKS))\n",
    "print(len(RANK_NAMES))\n",
    "\n",
    "def find_from_rank():\n",
    "    def func(rows):\n",
    "        hits = 0\n",
    "        total = 0\n",
    "        # keys = set()\n",
    "        name_keys = {'name', 'name:he', 'name:en', 'name:ar'}\n",
    "        for row in rows:\n",
    "            # for k in row['properties'].keys():\n",
    "            #     if k not in keys:\n",
    "            #         print('k', k)\n",
    "            #         keys.add(k)\n",
    "            names = [v for k, v in row['properties'].items() if k in name_keys and v]\n",
    "            total += 1\n",
    "            max_name = None\n",
    "            max_score = 94\n",
    "            for name in names:\n",
    "                for choice in RANK_NAMES:\n",
    "                    # score = process.extractBests(name, RANK_NAMES, score_cutoff=90, limit=1)\n",
    "                    score = fuzz.UQRatio(name.lower(), choice.lower())\n",
    "                    if score > max_score:\n",
    "                        max_score = score\n",
    "                        max_name = choice\n",
    "            if max_name is not None:\n",
    "                rank = RANKS_MAP[max_name]\n",
    "                row['filterrank'] = rank[6]\n",
    "                row['symbolrank'] = rank[5]\n",
    "                row['text_anchor'] = rank[7]\n",
    "                row['layer'] = rank[0]\n",
    "                yield row\n",
    "                hits += 1\n",
    "            # else:\n",
    "            #     print('DIDNT FIND for {}'.format(name))\n",
    "        print('Found {}/{}'.format(hits, total))\n",
    "    return DF.Flow(\n",
    "        DF.add_field('filterrank', 'integer', 2),\n",
    "        DF.add_field('symbolrank', 'integer', 13),\n",
    "        DF.add_field('text_anchor', 'string', None),\n",
    "        DF.add_field('layer', 'string', ''),\n",
    "        func\n",
    "    )\n",
    "\n",
    "dp = DF.Flow(\n",
    "    *sources,\n",
    "    DF.add_field('tags', 'string', lambda r: r['properties'].get('other_tags') or ''),\n",
    "    lambda row: row['properties'].update(pghstore.loads(row['tags'])),\n",
    "    DF.add_field('place', 'string', lambda r: r['properties'].get('place')),\n",
    "    DF.add_field('orig_name', 'string', lambda r: r['properties'].get('name')),\n",
    "    DF.filter_rows(lambda r: r['place'] in {'city', 'town', 'village', 'hamlet'} or r['properties'].get('population') is not None),\n",
    "    DF.filter_rows(lambda r: r['geometry'] and r['geometry']['type'] == 'Point'),\n",
    "    DF.checkpoint('heb_labels'),\n",
    "    find_from_rank(),\n",
    "    # DF.add_field('population', 'string', lambda r: r['properties'].get('population')),\n",
    "    DF.add_field('name', 'string', lambda r: r['properties'].get('name:he') or r['orig_name']),\n",
    "    DF.select_fields(['place', 'name', 'geometry', 'filterrank', 'symbolrank', 'text_anchor']),\n",
    "    DF.concatenate(\n",
    "        dict((k, []) for k in ['place', 'name', 'geometry', 'filterrank', 'symbolrank', 'text_anchor']),\n",
    "        target=dict(name='place_labels_he', path='./place_labels_he.geojson')\n",
    "    ),\n",
    "    DF.add_field('class', 'string', 'settlement'),\n",
    "    DF.add_field('worldview', 'string', 'all'),\n",
    "    DF.add_field('name_script', 'string', 'Hebrew'),\n",
    "    DF.add_field('capital', 'integer', lambda r: 2 if r['name'] == 'ירושלים' else 0),\n",
    "    DF.add_field('disputed', 'boolean', False),\n",
    "    DF.set_type('geometry', type='geopoint', transform=lambda v: list(v['coordinates']), resources=None),\n",
    "    DF.dump_to_path('data/place_labels_he', force_format=False),\n",
    "    DF.printer(tablefmt='html')\n",
    ").process()"
   ]
  },
  {
   "cell_type": "markdown",
   "metadata": {},
   "source": [
    "## Locations and Bounds"
   ]
  },
  {
   "cell_type": "code",
   "execution_count": null,
   "metadata": {},
   "outputs": [],
   "source": [
    "import dataflows as DF\n",
    "import fiona\n",
    "import pghstore\n",
    "from shapely.geometry import shape\n",
    "from shapely.ops import unary_union\n",
    "\n",
    "FILES = ['israel', 'palestine']\n",
    "sources = [fiona.open(f'{f}.osm.gpkg', layer='multipolygons').filter() for f in FILES]\n",
    "RANKS = dict(\n",
    "    city=0,\n",
    "    town=1,\n",
    "    village=2,\n",
    "    hamlet=3\n",
    ")\n",
    "\n",
    "def names(r):\n",
    "    ret = [v for k, v in r['properties'].items() if k.endswith('he')]\n",
    "    if len(ret) == 0:\n",
    "        name = r['properties'].get('name')\n",
    "        if name:\n",
    "            return [name]\n",
    "    else:\n",
    "        return ret\n",
    "    \n",
    "def bounds(r):\n",
    "    geometry = r['geometry']\n",
    "    geometry = unary_union([shape(g) for g in geometry])\n",
    "    bounds = geometry.bounds\n",
    "    return bounds\n",
    "\n",
    "dp, _ = DF.Flow(\n",
    "    *sources,\n",
    "    DF.add_field('tags', 'string', lambda r: r['properties'].get('other_tags') or ''),\n",
    "    lambda row: row['properties'].update(pghstore.loads(row['tags'])),\n",
    "    DF.add_field('place', 'string', lambda r: r['properties'].get('place')),\n",
    "    DF.add_field('boundary', 'string', lambda r: r['properties'].get('boundary')),\n",
    "    DF.add_field('population', 'string', lambda r: r['properties'].get('population')),\n",
    "    DF.filter_rows(lambda r: r['place'] in RANKS.keys()),\n",
    "    DF.filter_rows(lambda r: r['geometry'] and 'Polygon' in r['geometry']['type']),\n",
    "    DF.add_field('name', 'array', names),\n",
    "    DF.filter_rows(lambda r: r['name'] is not None),\n",
    "    DF.add_field('key', 'string', lambda r: '_'.join(r['name'])),\n",
    "    DF.concatenate(\n",
    "        dict((k, []) for k in ['place', 'name', 'key', 'geometry', 'population']),\n",
    "    ),\n",
    "    DF.join_with_self('concat', ['key'], dict(\n",
    "        place=None,\n",
    "        population=None,\n",
    "        name=None,\n",
    "        key=None,\n",
    "        geometry=dict(aggregate='array')\n",
    "    )),\n",
    "    DF.add_field('bounds', 'array', bounds),\n",
    "    DF.select_fields(['key', 'place', 'name', 'population', 'bounds']),\n",
    "    DF.update_resource(-1, name='place_bounds_he', path='place_bounds_he.csv'),\n",
    "    DF.set_type('bounds', **{'es:index': False, 'es:itemType': 'number'}),\n",
    "    DF.set_type('place', **{'es:keyword': True}),\n",
    "    DF.set_type('name', **{'es:itemType': 'string'}),\n",
    "    DF.set_type('key', **{'es:keyword': True}),\n",
    "    DF.set_primary_key(['key']),\n",
    "    DF.dump_to_zip('data/place_bounds_he.zip'),\n",
    "    DF.printer(tablefmt='html')\n",
    ").process()\n",
    "dp.resources[0].descriptor"
   ]
  },
  {
   "cell_type": "markdown",
   "metadata": {},
   "source": [
    "## Cities without names"
   ]
  },
  {
   "cell_type": "code",
   "execution_count": 1,
   "metadata": {},
   "outputs": [
    {
     "name": "stderr",
     "output_type": "stream",
     "text": [
      "/Users/adam/.pyenv/versions/3.7.8/lib/python3.7/site-packages/pandas/compat/__init__.py:120: UserWarning: Could not import the lzma module. Your installed Python is incomplete. Attempting to use lzma compression will result in a RuntimeError.\n",
      "  warnings.warn(msg)\n",
      "/Users/adam/.pyenv/versions/3.7.8/lib/python3.7/site-packages/dataflows/helpers/iterable_loader.py:89: RuntimeWarning: Sequential read of iterator was interrupted. Resetting iterator. This can negatively impact the performance.\n",
      "  for x in self.iterable:\n"
     ]
    },
    {
     "data": {
      "text/html": [
       "<h3>res_1</h3>"
      ],
      "text/plain": [
       "<IPython.core.display.HTML object>"
      ]
     },
     "metadata": {},
     "output_type": "display_data"
    },
    {
     "data": {
      "text/html": [
       "<table>\n",
       "<thead>\n",
       "<tr><th style=\"text-align: right;\">  #</th><th>type\n",
       "(string)        </th><th style=\"text-align: right;\">       id\n",
       "(string)</th><th>properties\n",
       "(object)                                                                                                         </th><th>tags\n",
       "(string)  </th><th>place\n",
       "(string)        </th><th style=\"text-align: right;\">          osm_way_id\n",
       "(string)</th><th>name\n",
       "(array)     </th></tr>\n",
       "</thead>\n",
       "<tbody>\n",
       "<tr><td style=\"text-align: right;\">  1</td><td>Feature</td><td style=\"text-align: right;\"> 16107</td><td>{&#x27;admin_level&#x27;: None, &#x27;aeroway&#x27;: None, &#x27;amenity&#x27;: None, &#x27;barrier&#x27;: None, &#x27;boundary&#x27;: None, &#x27;building ...</td><td> </td><td>hamlet </td><td style=\"text-align: right;\">120745730</td><td>None</td></tr>\n",
       "<tr><td style=\"text-align: right;\">  2</td><td>Feature</td><td style=\"text-align: right;\">269205</td><td>{&#x27;admin_level&#x27;: None, &#x27;aeroway&#x27;: None, &#x27;amenity&#x27;: None, &#x27;barrier&#x27;: None, &#x27;boundary&#x27;: None, &#x27;building ...</td><td> </td><td>hamlet </td><td style=\"text-align: right;\">432757889</td><td>None</td></tr>\n",
       "<tr><td style=\"text-align: right;\">  3</td><td>Feature</td><td style=\"text-align: right;\">269207</td><td>{&#x27;admin_level&#x27;: None, &#x27;aeroway&#x27;: None, &#x27;amenity&#x27;: None, &#x27;barrier&#x27;: None, &#x27;boundary&#x27;: None, &#x27;building ...</td><td> </td><td>hamlet </td><td style=\"text-align: right;\">432757891</td><td>None</td></tr>\n",
       "<tr><td style=\"text-align: right;\">  4</td><td>Feature</td><td style=\"text-align: right;\">269208</td><td>{&#x27;admin_level&#x27;: None, &#x27;aeroway&#x27;: None, &#x27;amenity&#x27;: None, &#x27;barrier&#x27;: None, &#x27;boundary&#x27;: None, &#x27;building ...</td><td> </td><td>hamlet </td><td style=\"text-align: right;\">432757892</td><td>None</td></tr>\n",
       "<tr><td style=\"text-align: right;\">  5</td><td>Feature</td><td style=\"text-align: right;\">269209</td><td>{&#x27;admin_level&#x27;: None, &#x27;aeroway&#x27;: None, &#x27;amenity&#x27;: None, &#x27;barrier&#x27;: None, &#x27;boundary&#x27;: None, &#x27;building ...</td><td> </td><td>hamlet </td><td style=\"text-align: right;\">432757893</td><td>None</td></tr>\n",
       "<tr><td style=\"text-align: right;\">  6</td><td>Feature</td><td style=\"text-align: right;\">281483</td><td>{&#x27;admin_level&#x27;: None, &#x27;aeroway&#x27;: None, &#x27;amenity&#x27;: None, &#x27;barrier&#x27;: None, &#x27;boundary&#x27;: None, &#x27;building ...</td><td> </td><td>hamlet </td><td style=\"text-align: right;\">452985072</td><td>None</td></tr>\n",
       "<tr><td style=\"text-align: right;\">  7</td><td>Feature</td><td style=\"text-align: right;\">316340</td><td>{&#x27;admin_level&#x27;: None, &#x27;aeroway&#x27;: None, &#x27;amenity&#x27;: None, &#x27;barrier&#x27;: None, &#x27;boundary&#x27;: None, &#x27;building ...</td><td> </td><td>hamlet </td><td style=\"text-align: right;\">502103410</td><td>None</td></tr>\n",
       "<tr><td style=\"text-align: right;\">  8</td><td>Feature</td><td style=\"text-align: right;\">  5233</td><td>{&#x27;admin_level&#x27;: None, &#x27;aeroway&#x27;: None, &#x27;amenity&#x27;: None, &#x27;barrier&#x27;: None, &#x27;boundary&#x27;: None, &#x27;building ...</td><td> </td><td>village</td><td style=\"text-align: right;\"> 86342235</td><td>None</td></tr>\n",
       "<tr><td style=\"text-align: right;\">  9</td><td>Feature</td><td style=\"text-align: right;\">386038</td><td>{&#x27;admin_level&#x27;: None, &#x27;aeroway&#x27;: None, &#x27;amenity&#x27;: None, &#x27;barrier&#x27;: None, &#x27;boundary&#x27;: None, &#x27;building ...</td><td> </td><td>village</td><td style=\"text-align: right;\">605653857</td><td>None</td></tr>\n",
       "<tr><td style=\"text-align: right;\"> 10</td><td>Feature</td><td style=\"text-align: right;\">386074</td><td>{&#x27;admin_level&#x27;: None, &#x27;aeroway&#x27;: None, &#x27;amenity&#x27;: None, &#x27;barrier&#x27;: None, &#x27;boundary&#x27;: None, &#x27;building ...</td><td> </td><td>village</td><td style=\"text-align: right;\">605927534</td><td>None</td></tr>\n",
       "<tr><td style=\"text-align: right;\"> 11</td><td>Feature</td><td style=\"text-align: right;\">386075</td><td>{&#x27;admin_level&#x27;: None, &#x27;aeroway&#x27;: None, &#x27;amenity&#x27;: None, &#x27;barrier&#x27;: None, &#x27;boundary&#x27;: None, &#x27;building ...</td><td> </td><td>village</td><td style=\"text-align: right;\">605927538</td><td>None</td></tr>\n",
       "<tr><td style=\"text-align: right;\"> 12</td><td>Feature</td><td style=\"text-align: right;\">386076</td><td>{&#x27;admin_level&#x27;: None, &#x27;aeroway&#x27;: None, &#x27;amenity&#x27;: None, &#x27;barrier&#x27;: None, &#x27;boundary&#x27;: None, &#x27;building ...</td><td> </td><td>village</td><td style=\"text-align: right;\">605927542</td><td>None</td></tr>\n",
       "<tr><td style=\"text-align: right;\"> 13</td><td>Feature</td><td style=\"text-align: right;\">386078</td><td>{&#x27;admin_level&#x27;: None, &#x27;aeroway&#x27;: None, &#x27;amenity&#x27;: None, &#x27;barrier&#x27;: None, &#x27;boundary&#x27;: None, &#x27;building ...</td><td> </td><td>village</td><td style=\"text-align: right;\">605927631</td><td>None</td></tr>\n",
       "<tr><td style=\"text-align: right;\"> 14</td><td>Feature</td><td style=\"text-align: right;\">393217</td><td>{&#x27;admin_level&#x27;: None, &#x27;aeroway&#x27;: None, &#x27;amenity&#x27;: None, &#x27;barrier&#x27;: None, &#x27;boundary&#x27;: None, &#x27;building ...</td><td> </td><td>village</td><td style=\"text-align: right;\">614168322</td><td>None</td></tr>\n",
       "<tr><td style=\"text-align: right;\"> 15</td><td>Feature</td><td style=\"text-align: right;\">393222</td><td>{&#x27;admin_level&#x27;: None, &#x27;aeroway&#x27;: None, &#x27;amenity&#x27;: None, &#x27;barrier&#x27;: None, &#x27;boundary&#x27;: None, &#x27;building ...</td><td> </td><td>village</td><td style=\"text-align: right;\">614173564</td><td>None</td></tr>\n",
       "<tr><td style=\"text-align: right;\"> 16</td><td>Feature</td><td style=\"text-align: right;\">393338</td><td>{&#x27;admin_level&#x27;: None, &#x27;aeroway&#x27;: None, &#x27;amenity&#x27;: None, &#x27;barrier&#x27;: None, &#x27;boundary&#x27;: None, &#x27;building ...</td><td> </td><td>village</td><td style=\"text-align: right;\">614217402</td><td>None</td></tr>\n",
       "<tr><td style=\"text-align: right;\"> 17</td><td>Feature</td><td style=\"text-align: right;\">395655</td><td>{&#x27;admin_level&#x27;: None, &#x27;aeroway&#x27;: None, &#x27;amenity&#x27;: None, &#x27;barrier&#x27;: None, &#x27;boundary&#x27;: None, &#x27;building ...</td><td> </td><td>village</td><td style=\"text-align: right;\">616560049</td><td>None</td></tr>\n",
       "<tr><td style=\"text-align: right;\"> 18</td><td>Feature</td><td style=\"text-align: right;\">481413</td><td>{&#x27;admin_level&#x27;: None, &#x27;aeroway&#x27;: None, &#x27;amenity&#x27;: None, &#x27;barrier&#x27;: None, &#x27;boundary&#x27;: None, &#x27;building ...</td><td> </td><td>village</td><td style=\"text-align: right;\">724040810</td><td>None</td></tr>\n",
       "<tr><td style=\"text-align: right;\"> 19</td><td>Feature</td><td style=\"text-align: right;\">513950</td><td>{&#x27;admin_level&#x27;: None, &#x27;aeroway&#x27;: None, &#x27;amenity&#x27;: None, &#x27;barrier&#x27;: None, &#x27;boundary&#x27;: None, &#x27;building ...</td><td> </td><td>village</td><td style=\"text-align: right;\">800289869</td><td>None</td></tr>\n",
       "<tr><td style=\"text-align: right;\"> 20</td><td>Feature</td><td style=\"text-align: right;\">541602</td><td>{&#x27;admin_level&#x27;: None, &#x27;aeroway&#x27;: None, &#x27;amenity&#x27;: None, &#x27;barrier&#x27;: None, &#x27;boundary&#x27;: None, &#x27;building ...</td><td> </td><td>village</td><td style=\"text-align: right;\">897718793</td><td>None</td></tr>\n",
       "<tr><td style=\"text-align: right;\"> 21</td><td>Feature</td><td style=\"text-align: right;\">541603</td><td>{&#x27;admin_level&#x27;: None, &#x27;aeroway&#x27;: None, &#x27;amenity&#x27;: None, &#x27;barrier&#x27;: None, &#x27;boundary&#x27;: None, &#x27;building ...</td><td> </td><td>village</td><td style=\"text-align: right;\">897718794</td><td>None</td></tr>\n",
       "<tr><td style=\"text-align: right;\"> 22</td><td>Feature</td><td style=\"text-align: right;\">543449</td><td>{&#x27;admin_level&#x27;: None, &#x27;aeroway&#x27;: None, &#x27;amenity&#x27;: None, &#x27;barrier&#x27;: None, &#x27;boundary&#x27;: None, &#x27;building ...</td><td> </td><td>village</td><td style=\"text-align: right;\">907028108</td><td>None</td></tr>\n",
       "<tr><td style=\"text-align: right;\"> 23</td><td>Feature</td><td style=\"text-align: right;\">557103</td><td>{&#x27;admin_level&#x27;: None, &#x27;aeroway&#x27;: None, &#x27;amenity&#x27;: None, &#x27;barrier&#x27;: None, &#x27;boundary&#x27;: None, &#x27;building ...</td><td> </td><td>village</td><td style=\"text-align: right;\">927202144</td><td>None</td></tr>\n",
       "</tbody>\n",
       "</table>"
      ],
      "text/plain": [
       "<IPython.core.display.HTML object>"
      ]
     },
     "metadata": {},
     "output_type": "display_data"
    },
    {
     "data": {
      "text/html": [
       "<h3>res_2</h3>"
      ],
      "text/plain": [
       "<IPython.core.display.HTML object>"
      ]
     },
     "metadata": {},
     "output_type": "display_data"
    },
    {
     "data": {
      "text/html": [
       "<table>\n",
       "<thead>\n",
       "<tr><th style=\"text-align: right;\">  #</th><th>type\n",
       "(string)        </th><th style=\"text-align: right;\">       id\n",
       "(string)</th><th>properties\n",
       "(object)                                                                                                         </th><th>tags\n",
       "(string)  </th><th>place\n",
       "(string)        </th><th style=\"text-align: right;\">          osm_way_id\n",
       "(string)</th><th>name\n",
       "(array)     </th></tr>\n",
       "</thead>\n",
       "<tbody>\n",
       "<tr><td style=\"text-align: right;\">  1</td><td>Feature</td><td style=\"text-align: right;\"> 18264</td><td>{&#x27;admin_level&#x27;: None, &#x27;aeroway&#x27;: None, &#x27;amenity&#x27;: None, &#x27;barrier&#x27;: None, &#x27;boundary&#x27;: None, &#x27;building ...</td><td> </td><td>hamlet </td><td style=\"text-align: right;\">265587469</td><td>None</td></tr>\n",
       "<tr><td style=\"text-align: right;\">  2</td><td>Feature</td><td style=\"text-align: right;\"> 18274</td><td>{&#x27;admin_level&#x27;: None, &#x27;aeroway&#x27;: None, &#x27;amenity&#x27;: None, &#x27;barrier&#x27;: None, &#x27;boundary&#x27;: None, &#x27;building ...</td><td> </td><td>hamlet </td><td style=\"text-align: right;\">265595164</td><td>None</td></tr>\n",
       "<tr><td style=\"text-align: right;\">  3</td><td>Feature</td><td style=\"text-align: right;\">263525</td><td>{&#x27;admin_level&#x27;: None, &#x27;aeroway&#x27;: None, &#x27;amenity&#x27;: None, &#x27;barrier&#x27;: None, &#x27;boundary&#x27;: None, &#x27;building ...</td><td> </td><td>hamlet </td><td style=\"text-align: right;\">612000771</td><td>None</td></tr>\n",
       "<tr><td style=\"text-align: right;\">  4</td><td>Feature</td><td style=\"text-align: right;\">294839</td><td>{&#x27;admin_level&#x27;: None, &#x27;aeroway&#x27;: None, &#x27;amenity&#x27;: None, &#x27;barrier&#x27;: None, &#x27;boundary&#x27;: None, &#x27;building ...</td><td> </td><td>hamlet </td><td style=\"text-align: right;\">767112843</td><td>None</td></tr>\n",
       "<tr><td style=\"text-align: right;\">  5</td><td>Feature</td><td style=\"text-align: right;\"> 18260</td><td>{&#x27;admin_level&#x27;: None, &#x27;aeroway&#x27;: None, &#x27;amenity&#x27;: None, &#x27;barrier&#x27;: None, &#x27;boundary&#x27;: None, &#x27;building ...</td><td> </td><td>town   </td><td style=\"text-align: right;\">265587435</td><td>None</td></tr>\n",
       "<tr><td style=\"text-align: right;\">  6</td><td>Feature</td><td style=\"text-align: right;\"> 18262</td><td>{&#x27;admin_level&#x27;: None, &#x27;aeroway&#x27;: None, &#x27;amenity&#x27;: None, &#x27;barrier&#x27;: None, &#x27;boundary&#x27;: None, &#x27;building ...</td><td> </td><td>town   </td><td style=\"text-align: right;\">265587437</td><td>None</td></tr>\n",
       "<tr><td style=\"text-align: right;\">  7</td><td>Feature</td><td style=\"text-align: right;\"> 14923</td><td>{&#x27;admin_level&#x27;: None, &#x27;aeroway&#x27;: None, &#x27;amenity&#x27;: None, &#x27;barrier&#x27;: None, &#x27;boundary&#x27;: None, &#x27;building ...</td><td> </td><td>village</td><td style=\"text-align: right;\">242723361</td><td>None</td></tr>\n",
       "<tr><td style=\"text-align: right;\">  8</td><td>Feature</td><td style=\"text-align: right;\"> 16023</td><td>{&#x27;admin_level&#x27;: None, &#x27;aeroway&#x27;: None, &#x27;amenity&#x27;: None, &#x27;barrier&#x27;: None, &#x27;boundary&#x27;: None, &#x27;building ...</td><td> </td><td>village</td><td style=\"text-align: right;\">244087537</td><td>None</td></tr>\n",
       "<tr><td style=\"text-align: right;\">  9</td><td>Feature</td><td style=\"text-align: right;\"> 18265</td><td>{&#x27;admin_level&#x27;: None, &#x27;aeroway&#x27;: None, &#x27;amenity&#x27;: None, &#x27;barrier&#x27;: None, &#x27;boundary&#x27;: None, &#x27;building ...</td><td> </td><td>village</td><td style=\"text-align: right;\">265587470</td><td>None</td></tr>\n",
       "<tr><td style=\"text-align: right;\"> 10</td><td>Feature</td><td style=\"text-align: right;\"> 18266</td><td>{&#x27;admin_level&#x27;: None, &#x27;aeroway&#x27;: None, &#x27;amenity&#x27;: None, &#x27;barrier&#x27;: None, &#x27;boundary&#x27;: None, &#x27;building ...</td><td> </td><td>village</td><td style=\"text-align: right;\">265587471</td><td>None</td></tr>\n",
       "<tr><td style=\"text-align: right;\"> 11</td><td>Feature</td><td style=\"text-align: right;\"> 18267</td><td>{&#x27;admin_level&#x27;: None, &#x27;aeroway&#x27;: None, &#x27;amenity&#x27;: None, &#x27;barrier&#x27;: None, &#x27;boundary&#x27;: None, &#x27;building ...</td><td> </td><td>village</td><td style=\"text-align: right;\">265587472</td><td>None</td></tr>\n",
       "<tr><td style=\"text-align: right;\"> 12</td><td>Feature</td><td style=\"text-align: right;\"> 18276</td><td>{&#x27;admin_level&#x27;: None, &#x27;aeroway&#x27;: None, &#x27;amenity&#x27;: None, &#x27;barrier&#x27;: None, &#x27;boundary&#x27;: None, &#x27;building ...</td><td> </td><td>village</td><td style=\"text-align: right;\">265595166</td><td>None</td></tr>\n",
       "<tr><td style=\"text-align: right;\"> 13</td><td>Feature</td><td style=\"text-align: right;\"> 18279</td><td>{&#x27;admin_level&#x27;: None, &#x27;aeroway&#x27;: None, &#x27;amenity&#x27;: None, &#x27;barrier&#x27;: None, &#x27;boundary&#x27;: None, &#x27;building ...</td><td> </td><td>village</td><td style=\"text-align: right;\">265595169</td><td>None</td></tr>\n",
       "<tr><td style=\"text-align: right;\"> 14</td><td>Feature</td><td style=\"text-align: right;\"> 18280</td><td>{&#x27;admin_level&#x27;: None, &#x27;aeroway&#x27;: None, &#x27;amenity&#x27;: None, &#x27;barrier&#x27;: None, &#x27;boundary&#x27;: None, &#x27;building ...</td><td> </td><td>village</td><td style=\"text-align: right;\">265595170</td><td>None</td></tr>\n",
       "<tr><td style=\"text-align: right;\"> 15</td><td>Feature</td><td style=\"text-align: right;\"> 18281</td><td>{&#x27;admin_level&#x27;: None, &#x27;aeroway&#x27;: None, &#x27;amenity&#x27;: None, &#x27;barrier&#x27;: None, &#x27;boundary&#x27;: None, &#x27;building ...</td><td> </td><td>village</td><td style=\"text-align: right;\">265595172</td><td>None</td></tr>\n",
       "<tr><td style=\"text-align: right;\"> 16</td><td>Feature</td><td style=\"text-align: right;\"> 18283</td><td>{&#x27;admin_level&#x27;: None, &#x27;aeroway&#x27;: None, &#x27;amenity&#x27;: None, &#x27;barrier&#x27;: None, &#x27;boundary&#x27;: None, &#x27;building ...</td><td> </td><td>village</td><td style=\"text-align: right;\">265595178</td><td>None</td></tr>\n",
       "<tr><td style=\"text-align: right;\"> 17</td><td>Feature</td><td style=\"text-align: right;\"> 18288</td><td>{&#x27;admin_level&#x27;: None, &#x27;aeroway&#x27;: None, &#x27;amenity&#x27;: None, &#x27;barrier&#x27;: None, &#x27;boundary&#x27;: None, &#x27;building ...</td><td> </td><td>village</td><td style=\"text-align: right;\">265613975</td><td>None</td></tr>\n",
       "<tr><td style=\"text-align: right;\"> 18</td><td>Feature</td><td style=\"text-align: right;\"> 18294</td><td>{&#x27;admin_level&#x27;: None, &#x27;aeroway&#x27;: None, &#x27;amenity&#x27;: None, &#x27;barrier&#x27;: None, &#x27;boundary&#x27;: None, &#x27;building ...</td><td> </td><td>village</td><td style=\"text-align: right;\">265620022</td><td>None</td></tr>\n",
       "<tr><td style=\"text-align: right;\"> 19</td><td>Feature</td><td style=\"text-align: right;\"> 18295</td><td>{&#x27;admin_level&#x27;: None, &#x27;aeroway&#x27;: None, &#x27;amenity&#x27;: None, &#x27;barrier&#x27;: None, &#x27;boundary&#x27;: None, &#x27;building ...</td><td> </td><td>village</td><td style=\"text-align: right;\">265620023</td><td>None</td></tr>\n",
       "<tr><td style=\"text-align: right;\"> 20</td><td>Feature</td><td style=\"text-align: right;\"> 18296</td><td>{&#x27;admin_level&#x27;: None, &#x27;aeroway&#x27;: None, &#x27;amenity&#x27;: None, &#x27;barrier&#x27;: None, &#x27;boundary&#x27;: None, &#x27;building ...</td><td> </td><td>village</td><td style=\"text-align: right;\">265620024</td><td>None</td></tr>\n",
       "<tr><td style=\"text-align: right;\"> 21</td><td>Feature</td><td style=\"text-align: right;\"> 18301</td><td>{&#x27;admin_level&#x27;: None, &#x27;aeroway&#x27;: None, &#x27;amenity&#x27;: None, &#x27;barrier&#x27;: None, &#x27;boundary&#x27;: None, &#x27;building ...</td><td> </td><td>village</td><td style=\"text-align: right;\">265642946</td><td>None</td></tr>\n",
       "<tr><td style=\"text-align: right;\"> 22</td><td>Feature</td><td style=\"text-align: right;\">277392</td><td>{&#x27;admin_level&#x27;: None, &#x27;aeroway&#x27;: None, &#x27;amenity&#x27;: None, &#x27;barrier&#x27;: None, &#x27;boundary&#x27;: None, &#x27;building ...</td><td> </td><td>village</td><td style=\"text-align: right;\">724040810</td><td>None</td></tr>\n",
       "</tbody>\n",
       "</table>"
      ],
      "text/plain": [
       "<IPython.core.display.HTML object>"
      ]
     },
     "metadata": {},
     "output_type": "display_data"
    }
   ],
   "source": [
    "import dataflows as DF\n",
    "import fiona\n",
    "import pghstore\n",
    "from shapely.geometry import shape\n",
    "from shapely.ops import unary_union\n",
    "\n",
    "FILES = ['israel', 'palestine']\n",
    "sources = [fiona.open(f'{f}.osm.gpkg', layer='multipolygons').filter() for f in FILES]\n",
    "RANKS = dict(\n",
    "    city=0,\n",
    "    town=1,\n",
    "    village=2,\n",
    "    hamlet=3\n",
    ")\n",
    "\n",
    "def names(r):\n",
    "    ret = [v for k, v in r['properties'].items() if k.endswith('he')]\n",
    "    if len(ret) == 0:\n",
    "        name = r['properties'].get('name')\n",
    "        if name:\n",
    "            return [name]\n",
    "    else:\n",
    "        return ret\n",
    "\n",
    "r = DF.Flow(\n",
    "    *sources,\n",
    "    DF.add_field('tags', 'string', lambda r: r['properties'].get('other_tags') or ''),\n",
    "    lambda row: row['properties'].update(pghstore.loads(row['tags'])),\n",
    "    DF.add_field('place', 'string', lambda r: r['properties'].get('place')),\n",
    "    DF.add_field('osm_way_id', 'string', lambda r: r['properties'].get('osm_way_id')),\n",
    "    DF.filter_rows(lambda r: r['place'] in RANKS.keys()),\n",
    "    DF.filter_rows(lambda r: r['geometry'] and 'Polygon' in r['geometry']['type']),\n",
    "    DF.add_field('name', 'array', names),\n",
    "    DF.filter_rows(lambda r: r['name'] is None),\n",
    "    DF.sort_rows('{place}'),\n",
    "    DF.delete_fields(['geometry']),\n",
    "    DF.printer(tablefmt='html')\n",
    ").results()[0][0]\n"
   ]
  },
  {
   "cell_type": "code",
   "execution_count": null,
   "metadata": {},
   "outputs": [],
   "source": [
    "_"
   ]
  }
 ],
 "metadata": {
  "kernelspec": {
   "display_name": "Python 3",
   "language": "python",
   "name": "python3"
  },
  "language_info": {
   "codemirror_mode": {
    "name": "ipython",
    "version": 3
   },
   "file_extension": ".py",
   "mimetype": "text/x-python",
   "name": "python",
   "nbconvert_exporter": "python",
   "pygments_lexer": "ipython3",
   "version": "3.7.8"
  }
 },
 "nbformat": 4,
 "nbformat_minor": 4
}
