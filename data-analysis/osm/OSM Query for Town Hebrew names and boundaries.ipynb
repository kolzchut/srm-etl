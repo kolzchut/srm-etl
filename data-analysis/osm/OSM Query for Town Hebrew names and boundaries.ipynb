{
 "cells": [
  {
   "cell_type": "markdown",
   "metadata": {},
   "source": [
    "## Download data from OSM"
   ]
  },
  {
   "cell_type": "code",
   "execution_count": 1,
   "metadata": {
    "scrolled": true
   },
   "outputs": [
    {
     "name": "stdout",
     "output_type": "stream",
     "text": [
      "--2021-10-18 13:24:07--  https://download.openstreetmap.fr/extracts/asia/israel.osm.pbf\n",
      "Resolving download.openstreetmap.fr (download.openstreetmap.fr)... 213.36.253.212\n",
      "Connecting to download.openstreetmap.fr (download.openstreetmap.fr)|213.36.253.212|:443... connected.\n",
      "HTTP request sent, awaiting response... 200 OK\n",
      "Length: 78213987 (75M)\n",
      "Saving to: ‘israel.osm.pbf’\n",
      "\n",
      "israel.osm.pbf      100%[===================>]  74.59M   741KB/s    in 1m 56s  \n",
      "\n",
      "2021-10-18 13:26:04 (658 KB/s) - ‘israel.osm.pbf’ saved [78213987/78213987]\n",
      "\n",
      "--2021-10-18 13:26:04--  https://download.openstreetmap.fr/extracts/asia/palestine.osm.pbf\n",
      "Resolving download.openstreetmap.fr (download.openstreetmap.fr)... 213.36.253.212\n",
      "Connecting to download.openstreetmap.fr (download.openstreetmap.fr)|213.36.253.212|:443... connected.\n",
      "HTTP request sent, awaiting response... 200 OK\n",
      "Length: 33084999 (32M)\n",
      "Saving to: ‘palestine.osm.pbf’\n",
      "\n",
      "palestine.osm.pbf   100%[===================>]  31.55M   948KB/s    in 43s     \n",
      "\n",
      "2021-10-18 13:26:47 (753 KB/s) - ‘palestine.osm.pbf’ saved [33084999/33084999]\n",
      "\n"
     ]
    }
   ],
   "source": [
    "!wget https://download.openstreetmap.fr/extracts/asia/israel.osm.pbf\n",
    "!wget https://download.openstreetmap.fr/extracts/asia/palestine.osm.pbf"
   ]
  },
  {
   "cell_type": "markdown",
   "metadata": {},
   "source": [
    "## Convert to gpkg"
   ]
  },
  {
   "cell_type": "code",
   "execution_count": 2,
   "metadata": {},
   "outputs": [
    {
     "name": "stdout",
     "output_type": "stream",
     "text": [
      "0...10...20...30...40...50...60...70...80...90...100 - done.\n",
      "0...10...20...30...40...50...60...70...80...90...100 - done.\n"
     ]
    }
   ],
   "source": [
    "!ogr2ogr israel.osm.gpkg israel.osm.pbf\n",
    "!ogr2ogr palestine.osm.gpkg palestine.osm.pbf"
   ]
  },
  {
   "cell_type": "code",
   "execution_count": 2,
   "metadata": {},
   "outputs": [
    {
     "data": {
      "text/plain": [
       "['points', 'lines', 'multilinestrings', 'multipolygons', 'other_relations']"
      ]
     },
     "execution_count": 2,
     "metadata": {},
     "output_type": "execute_result"
    }
   ],
   "source": [
    "import fiona\n",
    "fiona.listlayers('israel.osm.gpkg')"
   ]
  },
  {
   "cell_type": "markdown",
   "metadata": {},
   "source": [
    "## Hebrew Labels"
   ]
  },
  {
   "cell_type": "code",
   "execution_count": 1,
   "metadata": {},
   "outputs": [
    {
     "name": "stderr",
     "output_type": "stream",
     "text": [
      "/Users/adam/.pyenv/versions/3.7.8/lib/python3.7/site-packages/pandas/compat/__init__.py:120: UserWarning: Could not import the lzma module. Your installed Python is incomplete. Attempting to use lzma compression will result in a RuntimeError.\n",
      "  warnings.warn(msg)\n",
      "/Users/adam/.pyenv/versions/3.7.8/lib/python3.7/site-packages/dataflows/helpers/iterable_loader.py:89: RuntimeWarning: Sequential read of iterator was interrupted. Resetting iterator. This can negatively impact the performance.\n",
      "  for x in self.iterable:\n"
     ]
    },
    {
     "data": {
      "text/html": [
       "<h3>place_labels_he</h3>"
      ],
      "text/plain": [
       "<IPython.core.display.HTML object>"
      ]
     },
     "metadata": {},
     "output_type": "display_data"
    },
    {
     "data": {
      "text/html": [
       "<table>\n",
       "<thead>\n",
       "<tr><th>#   </th><th>place\n",
       "(string)        </th><th>name\n",
       "(string)                   </th><th>geometry\n",
       "(geopoint)                                         </th><th style=\"text-align: right;\">  rank\n",
       "(integer)</th></tr>\n",
       "</thead>\n",
       "<tbody>\n",
       "<tr><td>1   </td><td>city   </td><td>אילת              </td><td>[34.9497949, 29.5569348]                </td><td style=\"text-align: right;\">0</td></tr>\n",
       "<tr><td>2   </td><td>city   </td><td>ירושלים           </td><td>[35.2257626, 31.778824200000003]        </td><td style=\"text-align: right;\">0</td></tr>\n",
       "<tr><td>3   </td><td>village</td><td>יבנאל             </td><td>[35.5060043, 32.7026978]                </td><td style=\"text-align: right;\">2</td></tr>\n",
       "<tr><td>4   </td><td>town   </td><td>קיסריה            </td><td>[34.9057861, 32.5114971]                </td><td style=\"text-align: right;\">1</td></tr>\n",
       "<tr><td>5   </td><td>city   </td><td>נהריה             </td><td>[35.094557900000005, 33.006306]         </td><td style=\"text-align: right;\">0</td></tr>\n",
       "<tr><td>6   </td><td>village</td><td>שדות ים           </td><td>[34.8933053, 32.492159300000004]        </td><td style=\"text-align: right;\">2</td></tr>\n",
       "<tr><td>7   </td><td>city   </td><td>אשדוד             </td><td>[34.6529922, 31.797731400000004]        </td><td style=\"text-align: right;\">0</td></tr>\n",
       "<tr><td>8   </td><td>city   </td><td>חולון             </td><td>[34.780407600000004, 32.0193121]        </td><td style=\"text-align: right;\">0</td></tr>\n",
       "<tr><td>9   </td><td>town   </td><td>אור יהודה         </td><td>[34.8523936, 32.0309712]                </td><td style=\"text-align: right;\">1</td></tr>\n",
       "<tr><td>10  </td><td>city   </td><td>ראשון לציון       </td><td>[34.8101149, 31.9635712]                </td><td style=\"text-align: right;\">0</td></tr>\n",
       "<tr><td>11  </td><td>town   </td><td>נס ציונה          </td><td>[34.7990609, 31.929557700000004]        </td><td style=\"text-align: right;\">1</td></tr>\n",
       "<tr><td>12  </td><td>town   </td><td>נוף הגליל         </td><td>[35.318321600000004, 32.7023065]        </td><td style=\"text-align: right;\">1</td></tr>\n",
       "<tr><td>13  </td><td>village</td><td>אבו גוש           </td><td>[35.1088651, 31.806353]                 </td><td style=\"text-align: right;\">2</td></tr>\n",
       "<tr><td>14  </td><td>village</td><td>קרית יערים        </td><td>[35.1012545, 31.803512800000004]        </td><td style=\"text-align: right;\">2</td></tr>\n",
       "<tr><td>15  </td><td>town   </td><td>הר אדר            </td><td>[35.1295577, 31.826857]                 </td><td style=\"text-align: right;\">1</td></tr>\n",
       "<tr><td>16  </td><td>village</td><td>מעלה החמישה       </td><td>[35.1115939, 31.817485700000002]        </td><td style=\"text-align: right;\">2</td></tr>\n",
       "<tr><td>17  </td><td>town   </td><td>באר יעקב          </td><td>[34.8398648, 31.944353200000002]        </td><td style=\"text-align: right;\">1</td></tr>\n",
       "<tr><td>18  </td><td>village</td><td>גליל ים           </td><td>[34.829987100000004, 32.1568799]        </td><td style=\"text-align: right;\">2</td></tr>\n",
       "<tr><td>19  </td><td>village</td><td>בית יהושע         </td><td>[34.8660021, 32.259291600000005]        </td><td style=\"text-align: right;\">2</td></tr>\n",
       "<tr><td>20  </td><td>village</td><td>תל יצחק           </td><td>[34.8696976, 32.2527746]                </td><td style=\"text-align: right;\">2</td></tr>\n",
       "<tr><td>... </td><td>       </td><td>                  </td><td>                                        </td><td style=\"text-align: right;\"> </td></tr>\n",
       "<tr><td>100 </td><td>village</td><td>תל חי             </td><td>[35.578034, 33.2337137]                 </td><td style=\"text-align: right;\">2</td></tr>\n",
       "<tr><td>101 </td><td>town   </td><td>ראש פינה          </td><td>[35.5438245, 32.968215]                 </td><td style=\"text-align: right;\">1</td></tr>\n",
       "<tr><td>102 </td><td>village</td><td>כאוכב אבו אל-היג&#x27;א</td><td>[35.2494826, 32.8309185]                </td><td style=\"text-align: right;\">2</td></tr>\n",
       "<tr><td>103 </td><td>village</td><td>עין הוד           </td><td>[34.982596400000006, 32.700501700000004]</td><td style=\"text-align: right;\">2</td></tr>\n",
       "<tr><td>104 </td><td>village</td><td>חפציבה            </td><td>[35.425832400000004, 32.5181674]        </td><td style=\"text-align: right;\">2</td></tr>\n",
       "<tr><td>105 </td><td>town   </td><td>בני ברק           </td><td>[34.8324376, 32.087389900000005]        </td><td style=\"text-align: right;\">1</td></tr>\n",
       "<tr><td>106 </td><td>town   </td><td>גבעתיים           </td><td>[34.8113279, 32.0729606]                </td><td style=\"text-align: right;\">1</td></tr>\n",
       "<tr><td>107 </td><td>village</td><td>כפר חיים          </td><td>[34.9001418, 32.3539817]                </td><td style=\"text-align: right;\">2</td></tr>\n",
       "<tr><td>108 </td><td>village</td><td>משמר השרון        </td><td>[34.903359300000005, 32.3564792]        </td><td style=\"text-align: right;\">2</td></tr>\n",
       "<tr><td>109 </td><td>village</td><td>כפר מונש          </td><td>[34.9162242, 32.347534800000005]        </td><td style=\"text-align: right;\">2</td></tr>\n",
       "<tr><td>110 </td><td>village</td><td>ינוב              </td><td>[34.9504619, 32.3060551]                </td><td style=\"text-align: right;\">2</td></tr>\n",
       "<tr><td>... </td><td>       </td><td>                  </td><td>                                        </td><td style=\"text-align: right;\"> </td></tr>\n",
       "<tr><td>1000</td><td>village</td><td>פלך               </td><td>[35.2335678, 32.9338767]                </td><td style=\"text-align: right;\">2</td></tr>\n",
       "<tr><td>1001</td><td>village</td><td>ערב א-נעים        </td><td>[35.2895564, 32.8878763]                </td><td style=\"text-align: right;\">2</td></tr>\n",
       "<tr><td>1002</td><td>village</td><td>אשבל              </td><td>[35.3049739, 32.876801]                 </td><td style=\"text-align: right;\">2</td></tr>\n",
       "<tr><td>1003</td><td>village</td><td>מנוף              </td><td>[35.2367706, 32.854133600000004]        </td><td style=\"text-align: right;\">2</td></tr>\n",
       "<tr><td>1004</td><td>village</td><td>גבעת אלה          </td><td>[35.2448953, 32.7208483]                </td><td style=\"text-align: right;\">2</td></tr>\n",
       "<tr><td>1005</td><td>village</td><td>שמשית             </td><td>[35.2472359, 32.7328247]                </td><td style=\"text-align: right;\">2</td></tr>\n",
       "<tr><td>1006</td><td>village</td><td>נוה שלום          </td><td>[34.9781914, 31.8175068]                </td><td style=\"text-align: right;\">2</td></tr>\n",
       "<tr><td>1007</td><td>village</td><td>אניעם             </td><td>[35.7397621, 32.956870800000004]        </td><td style=\"text-align: right;\">2</td></tr>\n",
       "<tr><td>1008</td><td>village</td><td>קשת               </td><td>[35.8085857, 32.980733]                 </td><td style=\"text-align: right;\">2</td></tr>\n",
       "<tr><td>1009</td><td>village</td><td>אלון הגליל        </td><td>[35.2199802, 32.7571188]                </td><td style=\"text-align: right;\">2</td></tr>\n",
       "<tr><td>1010</td><td>village</td><td>גן נר             </td><td>[35.339111800000005, 32.5308688]        </td><td style=\"text-align: right;\">2</td></tr>\n",
       "<tr><td>... </td><td>       </td><td>                  </td><td>                                        </td><td style=\"text-align: right;\"> </td></tr>\n",
       "<tr><td>2308</td><td>village</td><td>ח&#x27;רבת ג&#x27;בארה      </td><td>[35.041883000000006, 32.268979300000005]</td><td style=\"text-align: right;\">2</td></tr>\n",
       "<tr><td>2309</td><td>hamlet </td><td>אל מסקופה         </td><td>[35.0586532, 32.3369437]                </td><td style=\"text-align: right;\">3</td></tr>\n",
       "<tr><td>2310</td><td>hamlet </td><td>מעוז אסתר         </td><td>[35.3440579, 31.967919100000003]        </td><td style=\"text-align: right;\">3</td></tr>\n",
       "<tr><td>2311</td><td>village</td><td>עוז ציון          </td><td>[35.2499717, 31.9092619]                </td><td style=\"text-align: right;\">2</td></tr>\n",
       "<tr><td>2312</td><td>hamlet </td><td>מצפה חגית         </td><td>[35.3380634, 31.851244800000003]        </td><td style=\"text-align: right;\">3</td></tr>\n",
       "<tr><td>2313</td><td>hamlet </td><td>אביתר             </td><td>[35.2747395, 32.1197691]                </td><td style=\"text-align: right;\">3</td></tr>\n",
       "<tr><td>2314</td><td>hamlet </td><td>אעירה שחר         </td><td>[35.368849600000004, 31.951456200000003]</td><td style=\"text-align: right;\">3</td></tr>\n",
       "<tr><td>2315</td><td>hamlet </td><td>קול דודי          </td><td>[35.343302300000005, 31.946170600000002]</td><td style=\"text-align: right;\">3</td></tr>\n",
       "<tr><td>2316</td><td>hamlet </td><td>גבעת רש&quot;י         </td><td>[35.162141600000005, 32.2193069]        </td><td style=\"text-align: right;\">3</td></tr>\n",
       "<tr><td>2317</td><td>hamlet </td><td>רמת מגרון         </td><td>[35.2694168, 31.886857300000003]        </td><td style=\"text-align: right;\">3</td></tr>\n",
       "</tbody>\n",
       "</table>"
      ],
      "text/plain": [
       "<IPython.core.display.HTML object>"
      ]
     },
     "metadata": {},
     "output_type": "display_data"
    }
   ],
   "source": [
    "import dataflows as DF\n",
    "import fiona\n",
    "import pghstore\n",
    "\n",
    "FILES = ['israel', 'palestine']\n",
    "sources = [fiona.open(f'{f}.osm.gpkg', layer='points').filter() for f in FILES]\n",
    "RANKS = dict(\n",
    "    city=0,\n",
    "    town=1,\n",
    "    village=2,\n",
    "    hamlet=3\n",
    ")\n",
    "\n",
    "dp = DF.Flow(\n",
    "    *sources,\n",
    "    DF.add_field('tags', 'string', lambda r: r['properties'].get('other_tags') or ''),\n",
    "    lambda row: row['properties'].update(pghstore.loads(row['tags'])),\n",
    "    DF.add_field('place', 'string', lambda r: r['properties'].get('place')),\n",
    "    DF.add_field('population', 'string', lambda r: r['properties'].get('population')),\n",
    "    DF.add_field('orig_name', 'string', lambda r: r['properties'].get('name')),\n",
    "    DF.filter_rows(lambda r: r['place'] in RANKS.keys() or r['population'] is not None),\n",
    "    DF.filter_rows(lambda r: r['geometry'] and r['geometry']['type'] == 'Point'),\n",
    "    DF.add_field('name', 'string', lambda r: r['properties'].get('name:he') or r['orig_name']),\n",
    "    DF.add_field('rank', 'integer', lambda r: RANKS.get(r['place'])),\n",
    "    DF.select_fields(['place', 'name', 'geometry', 'rank']),\n",
    "    DF.concatenate(\n",
    "        dict((k, []) for k in ['place', 'name', 'geometry', 'rank']),\n",
    "        target=dict(name='place_labels_he', path='./place_labels_he.geojson')\n",
    "    ),\n",
    "    DF.set_type('geometry', type='geopoint', transform=lambda v: list(v['coordinates']), resources=None),\n",
    "    DF.dump_to_path('data/place_labels_he', force_format=False),\n",
    "#     DF.printer(tablefmt='html')\n",
    ").process()"
   ]
  },
  {
   "cell_type": "markdown",
   "metadata": {},
   "source": [
    "## Locations and Bounds"
   ]
  },
  {
   "cell_type": "code",
   "execution_count": 1,
   "metadata": {},
   "outputs": [
    {
     "name": "stderr",
     "output_type": "stream",
     "text": [
      "/Users/adam/.pyenv/versions/3.7.8/lib/python3.7/site-packages/pandas/compat/__init__.py:120: UserWarning: Could not import the lzma module. Your installed Python is incomplete. Attempting to use lzma compression will result in a RuntimeError.\n",
      "  warnings.warn(msg)\n",
      "/Users/adam/.pyenv/versions/3.7.8/lib/python3.7/site-packages/dataflows/processors/join.py:192: UserWarning: For the `join` processor the `full=True` flag is deprecated. Please use the \"mode\" parameter instead.\n",
      "  UserWarning)\n",
      "/Users/adam/.pyenv/versions/3.7.8/lib/python3.7/site-packages/dataflows/helpers/iterable_loader.py:89: RuntimeWarning: Sequential read of iterator was interrupted. Resetting iterator. This can negatively impact the performance.\n",
      "  for x in self.iterable:\n"
     ]
    },
    {
     "data": {
      "text/html": [
       "<h3>place_bounds_he</h3>"
      ],
      "text/plain": [
       "<IPython.core.display.HTML object>"
      ]
     },
     "metadata": {},
     "output_type": "display_data"
    },
    {
     "data": {
      "text/html": [
       "<table>\n",
       "<thead>\n",
       "<tr><th>#   </th><th>key\n",
       "(string)                                  </th><th>place\n",
       "(string)        </th><th>name\n",
       "(array)                                      </th><th>population\n",
       "(string)      </th><th>bounds\n",
       "(array)                                                 </th></tr>\n",
       "</thead>\n",
       "<tbody>\n",
       "<tr><td>1   </td><td>A&#x27;raa&#x27;ra Bedouins                </td><td>hamlet </td><td>[&quot;A&#x27;raa&#x27;ra Bedouins&quot;]                </td><td>None </td><td>[35.2614135, 31.8504099, 35.2653989, 31.8541037]</td></tr>\n",
       "<tr><td>2   </td><td>Al Nada                          </td><td>hamlet </td><td>[&#x27;Al Nada&#x27;]                          </td><td>None </td><td>[34.2291621, 31.3284825, 34.230813, 31.3293784] </td></tr>\n",
       "<tr><td>3   </td><td>Sebastia                         </td><td>village</td><td>[&#x27;Sebastia&#x27;]                         </td><td>None </td><td>[35.1923239, 32.2690899, 35.2024491, 32.2801727]</td></tr>\n",
       "<tr><td>4   </td><td>Sudia Village                    </td><td>village</td><td>[&#x27;Sudia Village&#x27;]                    </td><td>None </td><td>[34.2329577, 31.3167983, 34.2362099, 31.3200123]</td></tr>\n",
       "<tr><td>5   </td><td>Wadi Abu Hindi                   </td><td>hamlet </td><td>[&#x27;Wadi Abu Hindi&#x27;]                   </td><td>None </td><td>[35.3120845, 31.7564905, 35.3252783, 31.7606013]</td></tr>\n",
       "<tr><td>6   </td><td>א-דווא                           </td><td>hamlet </td><td>[&#x27;א-דווא&#x27;]                           </td><td>None </td><td>[35.3718696, 32.1340848, 35.3765795, 32.1384365]</td></tr>\n",
       "<tr><td>7   </td><td>א-זידאנה אל נסאסרה               </td><td>hamlet </td><td>[&#x27;א-זידאנה אל נסאסרה&#x27;]               </td><td>None </td><td>[34.7365106, 31.3658372, 34.742804, 31.3707942] </td></tr>\n",
       "<tr><td>8   </td><td>א-זעיים בדואים                   </td><td>hamlet </td><td>[&#x27;א-זעיים בדואים&#x27;]                   </td><td>None </td><td>[35.2656578, 31.7929091, 35.2730082, 31.7989491]</td></tr>\n",
       "<tr><td>9   </td><td>א-רהניה                          </td><td>hamlet </td><td>[&#x27;א-רהניה&#x27;]                          </td><td>None </td><td>[35.2420533, 31.6662813, 35.2447893, 31.6686151]</td></tr>\n",
       "<tr><td>10  </td><td>אבו ג&#x27;ווייעד                     </td><td>village</td><td>[&quot;אבו ג&#x27;ווייעד&quot;]                     </td><td>None </td><td>[35.0711662, 31.1791438, 35.0738098, 31.1817818]</td></tr>\n",
       "<tr><td>11  </td><td>אבו גוש                          </td><td>village</td><td>[&#x27;אבו גוש&#x27;]                          </td><td>None </td><td>[35.0969829, 31.799384, 35.1229858, 31.8150518] </td></tr>\n",
       "<tr><td>12  </td><td>אבו דאוק - אבו ליימון - בית איכסא</td><td>hamlet </td><td>[&#x27;אבו דאוק - אבו ליימון - בית איכסא&#x27;]</td><td>None </td><td>[35.1656523, 31.8269679, 35.1692626, 31.8307053]</td></tr>\n",
       "<tr><td>13  </td><td>אבו דיס                          </td><td>town   </td><td>[&#x27;אבו דיס&#x27;]                          </td><td>12604</td><td>[35.2517607, 31.7525337, 35.2740103, 31.7675942]</td></tr>\n",
       "<tr><td>14  </td><td>אבו סולתן                        </td><td>hamlet </td><td>[&#x27;אבו סולתן&#x27;]                        </td><td>None </td><td>[35.0581268, 32.1323846, 35.0602143, 32.1336857]</td></tr>\n",
       "<tr><td>15  </td><td>אבו סנאן                         </td><td>village</td><td>[&#x27;אבו סנאן&#x27;]                         </td><td>None </td><td>[35.1506877, 32.9531492, 35.1837116, 32.9658314]</td></tr>\n",
       "<tr><td>16  </td><td>אבו סנינא                        </td><td>hamlet </td><td>[&#x27;אבו סנינא&#x27;]                        </td><td>None </td><td>[34.9547575, 32.1821397, 34.9567373, 32.1848162]</td></tr>\n",
       "<tr><td>17  </td><td>אבו סריחאן                       </td><td>hamlet </td><td>[&#x27;אבו סריחאן&#x27;]                       </td><td>None </td><td>[34.8749813, 31.2592746, 34.8930269, 31.2696602]</td></tr>\n",
       "<tr><td>18  </td><td>אבו עיסא                         </td><td>hamlet </td><td>[&#x27;אבו עיסא&#x27;]                         </td><td>None </td><td>[34.8874128, 31.2938435, 34.8973367, 31.301791] </td></tr>\n",
       "<tr><td>19  </td><td>אבו עמאר                         </td><td>village</td><td>[&#x27;אבו עמאר&#x27;]                         </td><td>None </td><td>[34.9296137, 31.1374892, 34.9458837, 31.1479279]</td></tr>\n",
       "<tr><td>20  </td><td>אבו עפאש                         </td><td>village</td><td>[&#x27;אבו עפאש&#x27;]                         </td><td>None </td><td>[34.8048575, 31.1468215, 34.8159726, 31.1664327]</td></tr>\n",
       "<tr><td>... </td><td>                                 </td><td>       </td><td>                                     </td><td>     </td><td>                                                </td></tr>\n",
       "<tr><td>100 </td><td>אל חפאסי                         </td><td>hamlet </td><td>[&#x27;אל חפאסי&#x27;]                         </td><td>None </td><td>[35.0717333, 32.2870373, 35.1280789, 32.2917111]</td></tr>\n",
       "<tr><td>101 </td><td>אל מניה                          </td><td>hamlet </td><td>[&#x27;אל מניה&#x27;]                          </td><td>None </td><td>[35.2118156, 31.6137338, 35.2321885, 31.6261312]</td></tr>\n",
       "<tr><td>102 </td><td>אל משרו בדואים                   </td><td>hamlet </td><td>[&#x27;אל משרו בדואים&#x27;]                   </td><td>None </td><td>[35.4905934, 31.8688754, 35.4973804, 31.8742148]</td></tr>\n",
       "<tr><td>103 </td><td>אל סייד                          </td><td>village</td><td>[&#x27;אל סייד&#x27;]                          </td><td>None </td><td>[34.900154, 31.2704109, 34.9276128, 31.2919181] </td></tr>\n",
       "<tr><td>104 </td><td>אל עביד                          </td><td>hamlet </td><td>[&#x27;אל עביד&#x27;]                          </td><td>None </td><td>[34.8599193, 31.3649248, 34.8642284, 31.3685991]</td></tr>\n",
       "<tr><td>105 </td><td>אל עוקבן                         </td><td>hamlet </td><td>[&#x27;אל עוקבן&#x27;]                         </td><td>None </td><td>[35.2429296, 31.6543544, 35.2439918, 31.6558339]</td></tr>\n",
       "<tr><td>106 </td><td>אל עריאן                         </td><td>hamlet </td><td>[&#x27;אל עריאן&#x27;]                         </td><td>None </td><td>[35.123218, 32.4969115, 35.1270562, 32.498824]  </td></tr>\n",
       "<tr><td>107 </td><td>אל-בקיעה                         </td><td>hamlet </td><td>[&#x27;אל-בקיעה&#x27;]                         </td><td>None </td><td>[35.2496453, 31.3062897, 35.2528306, 31.3093619]</td></tr>\n",
       "<tr><td>108 </td><td>אל-חומרה                         </td><td>village</td><td>[&#x27;אל-חומרה&#x27;]                         </td><td>None </td><td>[35.065606, 31.2587437, 35.0809482, 31.2716797] </td></tr>\n",
       "<tr><td>109 </td><td>אל-טירה                          </td><td>village</td><td>[&#x27;אל-טירה&#x27;]                          </td><td>None </td><td>[35.1173785, 31.8678677, 35.1321689, 31.8737328]</td></tr>\n",
       "<tr><td>110 </td><td>אל-מד&#x27;בח                         </td><td>village</td><td>[&quot;אל-מד&#x27;בח&quot;]                         </td><td>None </td><td>[34.9396094, 31.169919, 34.9669679, 31.1866985] </td></tr>\n",
       "<tr><td>... </td><td>                                 </td><td>       </td><td>                                     </td><td>     </td><td>                                                </td></tr>\n",
       "<tr><td>1000</td><td>סלמה                             </td><td>village</td><td>[&#x27;סלמה&#x27;]                             </td><td>None </td><td>[35.364389, 32.8875853, 35.3764353, 32.8966591] </td></tr>\n",
       "<tr><td>1001</td><td>סלעית                            </td><td>village</td><td>[&#x27;סלעית&#x27;]                            </td><td>None </td><td>[35.037522, 32.2391537, 35.0571432, 32.248925]  </td></tr>\n",
       "<tr><td>1002</td><td>סמר                              </td><td>village</td><td>[&#x27;סמר&#x27;]                              </td><td>None </td><td>[35.0199202, 29.8319345, 35.0242421, 29.8357953]</td></tr>\n",
       "<tr><td>1003</td><td>סנדלה                            </td><td>village</td><td>[&#x27;סנדלה&#x27;]                            </td><td>None </td><td>[35.3207281, 32.5198754, 35.3260335, 32.5252186]</td></tr>\n",
       "<tr><td>1004</td><td>סנסנה                            </td><td>village</td><td>[&#x27;סנסנה&#x27;]                            </td><td>519  </td><td>[34.8993062, 31.361227, 34.9049109, 31.3661224] </td></tr>\n",
       "<tr><td>1005</td><td>סעד                              </td><td>village</td><td>[&#x27;סעד&#x27;]                              </td><td>None </td><td>[34.5293327, 31.4657032, 34.5399394, 31.4750494]</td></tr>\n",
       "<tr><td>1006</td><td>סער                              </td><td>village</td><td>[&#x27;סער&#x27;]                              </td><td>None </td><td>[35.1054027, 33.0258563, 35.1130149, 33.0330503]</td></tr>\n",
       "<tr><td>1007</td><td>ספיר                             </td><td>village</td><td>[&#x27;ספיר&#x27;]                             </td><td>None </td><td>[35.1806149, 30.6104762, 35.1879016, 30.6168042]</td></tr>\n",
       "<tr><td>1008</td><td>סרעיאה                           </td><td>village</td><td>[&#x27;סרעיאה&#x27;]                           </td><td>None </td><td>[34.9544499, 31.2542757, 34.9763427, 31.2664257]</td></tr>\n",
       "<tr><td>1009</td><td>סתריה                            </td><td>village</td><td>[&#x27;סתריה&#x27;]                            </td><td>None </td><td>[34.8372357, 31.8838812, 34.8507969, 31.896935] </td></tr>\n",
       "<tr><td>1010</td><td>עארה                             </td><td>village</td><td>[&#x27;עארה&#x27;]                             </td><td>None </td><td>[35.0671022, 32.5015163, 35.0884812, 32.5119833]</td></tr>\n",
       "<tr><td>... </td><td>                                 </td><td>       </td><td>                                     </td><td>     </td><td>                                                </td></tr>\n",
       "<tr><td>1385</td><td>תמרת                             </td><td>village</td><td>[&#x27;תמרת&#x27;]                             </td><td>None </td><td>[35.2188024, 32.6998877, 35.2315268, 32.707214] </td></tr>\n",
       "<tr><td>1386</td><td>תנובות                           </td><td>village</td><td>[&#x27;תנובות&#x27;]                           </td><td>None </td><td>[34.9580976, 32.3002268, 34.966715, 32.3097756] </td></tr>\n",
       "<tr><td>1387</td><td>תעוז                             </td><td>village</td><td>[&#x27;תעוז&#x27;]                             </td><td>None </td><td>[34.9687372, 31.7959197, 34.978862, 31.8061969] </td></tr>\n",
       "<tr><td>1388</td><td>תפרח                             </td><td>village</td><td>[&#x27;תפרח&#x27;]                             </td><td>None </td><td>[34.6655809, 31.3199025, 34.6877075, 31.3320363]</td></tr>\n",
       "<tr><td>1389</td><td>תקומה                            </td><td>village</td><td>[&#x27;תקומה&#x27;]                            </td><td>None </td><td>[34.5734036, 31.4439514, 35.2462247, 32.1611719]</td></tr>\n",
       "<tr><td>1390</td><td>תקוע                             </td><td>village</td><td>[&#x27;תקוע&#x27;]                             </td><td>None </td><td>[35.2240149, 31.6340899, 35.2451084, 31.6581741]</td></tr>\n",
       "<tr><td>1391</td><td>תראבין א-צאנע                    </td><td>village</td><td>[&#x27;תראבין א-צאנע&#x27;]                    </td><td>None </td><td>[34.7275645, 31.2754824, 34.8822798, 31.3504247]</td></tr>\n",
       "<tr><td>1392</td><td>תרום                             </td><td>village</td><td>[&#x27;תרום&#x27;]                             </td><td>None </td><td>[34.9777988, 31.7782803, 34.987132, 31.7881937] </td></tr>\n",
       "<tr><td>1393</td><td>الزهرة مدينة                     </td><td>town   </td><td>[&#x27;الزهرة مدينة&#x27;]                     </td><td>None </td><td>[34.3968645, 31.4687889, 34.4046573, 31.4752721]</td></tr>\n",
       "<tr><td>1394</td><td>قرية تل الحمة                    </td><td>hamlet </td><td>[&#x27;قرية تل الحمة&#x27;]                    </td><td>None </td><td>[35.4952831, 32.3652776, 35.5070476, 32.3765508]</td></tr>\n",
       "</tbody>\n",
       "</table>"
      ],
      "text/plain": [
       "<IPython.core.display.HTML object>"
      ]
     },
     "metadata": {},
     "output_type": "display_data"
    },
    {
     "data": {
      "text/plain": [
       "{'name': 'place_bounds_he',\n",
       " 'path': 'place_bounds_he.csv',\n",
       " 'schema': {'fields': [{'name': 'key',\n",
       "    'type': 'string',\n",
       "    'format': 'default',\n",
       "    'es:keyword': True},\n",
       "   {'name': 'place',\n",
       "    'type': 'string',\n",
       "    'format': 'default',\n",
       "    'es:keyword': True},\n",
       "   {'name': 'name',\n",
       "    'type': 'array',\n",
       "    'format': 'default',\n",
       "    'es:itemType': 'string'},\n",
       "   {'name': 'population', 'type': 'string', 'format': 'default'},\n",
       "   {'name': 'bounds',\n",
       "    'type': 'array',\n",
       "    'es:index': False,\n",
       "    'es:itemType': 'number'}],\n",
       "  'primaryKey': ['key']},\n",
       " 'profile': 'data-resource',\n",
       " 'encoding': 'utf-8',\n",
       " 'format': 'csv',\n",
       " 'dialect': {'lineTerminator': '\\r\\n',\n",
       "  'delimiter': ',',\n",
       "  'doubleQuote': True,\n",
       "  'quoteChar': '\"',\n",
       "  'skipInitialSpace': False}}"
      ]
     },
     "execution_count": 1,
     "metadata": {},
     "output_type": "execute_result"
    }
   ],
   "source": [
    "import dataflows as DF\n",
    "import fiona\n",
    "import pghstore\n",
    "from shapely.geometry import shape\n",
    "from shapely.ops import unary_union\n",
    "\n",
    "FILES = ['israel', 'palestine']\n",
    "sources = [fiona.open(f'{f}.osm.gpkg', layer='multipolygons').filter() for f in FILES]\n",
    "RANKS = dict(\n",
    "    city=0,\n",
    "    town=1,\n",
    "    village=2,\n",
    "    hamlet=3\n",
    ")\n",
    "\n",
    "def names(r):\n",
    "    ret = [v for k, v in r['properties'].items() if k.endswith('he')]\n",
    "    if len(ret) == 0:\n",
    "        name = r['properties'].get('name')\n",
    "        if name:\n",
    "            return [name]\n",
    "    else:\n",
    "        return ret\n",
    "    \n",
    "def bounds(r):\n",
    "    geometry = r['geometry']\n",
    "    geometry = unary_union([shape(g) for g in geometry])\n",
    "    bounds = geometry.bounds\n",
    "    return bounds\n",
    "\n",
    "dp, _ = DF.Flow(\n",
    "    *sources,\n",
    "    DF.add_field('tags', 'string', lambda r: r['properties'].get('other_tags') or ''),\n",
    "    lambda row: row['properties'].update(pghstore.loads(row['tags'])),\n",
    "    DF.add_field('place', 'string', lambda r: r['properties'].get('place')),\n",
    "    DF.add_field('boundary', 'string', lambda r: r['properties'].get('boundary')),\n",
    "    DF.add_field('population', 'string', lambda r: r['properties'].get('population')),\n",
    "    DF.filter_rows(lambda r: r['place'] in RANKS.keys()),\n",
    "    DF.filter_rows(lambda r: r['geometry'] and 'Polygon' in r['geometry']['type']),\n",
    "    DF.add_field('name', 'array', names),\n",
    "    DF.filter_rows(lambda r: r['name'] is not None),\n",
    "    DF.add_field('key', 'string', lambda r: '_'.join(r['name'])),\n",
    "    DF.concatenate(\n",
    "        dict((k, []) for k in ['place', 'name', 'key', 'geometry', 'population']),\n",
    "    ),\n",
    "    DF.join_with_self('concat', ['key'], dict(\n",
    "        place=None,\n",
    "        population=None,\n",
    "        name=None,\n",
    "        key=None,\n",
    "        geometry=dict(aggregate='array')\n",
    "    )),\n",
    "    DF.add_field('bounds', 'array', bounds),\n",
    "    DF.select_fields(['key', 'place', 'name', 'population', 'bounds']),\n",
    "    DF.update_resource(-1, name='place_bounds_he', path='place_bounds_he.csv'),\n",
    "    DF.set_type('bounds', **{'es:index': False, 'es:itemType': 'number'}),\n",
    "    DF.set_type('place', **{'es:keyword': True}),\n",
    "    DF.set_type('name', **{'es:itemType': 'string'}),\n",
    "    DF.set_type('key', **{'es:keyword': True}),\n",
    "    DF.set_primary_key(['key']),\n",
    "    DF.dump_to_zip('data/place_bounds_he.zip'),\n",
    "    DF.printer(tablefmt='html')\n",
    ").process()\n",
    "dp.resources[0].descriptor"
   ]
  },
  {
   "cell_type": "markdown",
   "metadata": {},
   "source": [
    "## Cities without names"
   ]
  },
  {
   "cell_type": "code",
   "execution_count": 1,
   "metadata": {},
   "outputs": [
    {
     "name": "stderr",
     "output_type": "stream",
     "text": [
      "/Users/adam/.pyenv/versions/3.7.8/lib/python3.7/site-packages/pandas/compat/__init__.py:120: UserWarning: Could not import the lzma module. Your installed Python is incomplete. Attempting to use lzma compression will result in a RuntimeError.\n",
      "  warnings.warn(msg)\n",
      "/Users/adam/.pyenv/versions/3.7.8/lib/python3.7/site-packages/dataflows/helpers/iterable_loader.py:89: RuntimeWarning: Sequential read of iterator was interrupted. Resetting iterator. This can negatively impact the performance.\n",
      "  for x in self.iterable:\n"
     ]
    },
    {
     "data": {
      "text/html": [
       "<h3>res_1</h3>"
      ],
      "text/plain": [
       "<IPython.core.display.HTML object>"
      ]
     },
     "metadata": {},
     "output_type": "display_data"
    },
    {
     "data": {
      "text/html": [
       "<table>\n",
       "<thead>\n",
       "<tr><th>#  </th><th>type\n",
       "(string)        </th><th style=\"text-align: right;\">       id\n",
       "(string)</th><th>properties\n",
       "(object)                                                                                                         </th><th>tags\n",
       "(string)  </th><th>place\n",
       "(string)        </th><th style=\"text-align: right;\">          osm_way_id\n",
       "(string)</th><th>name\n",
       "(array)     </th></tr>\n",
       "</thead>\n",
       "<tbody>\n",
       "<tr><td>1  </td><td>Feature</td><td style=\"text-align: right;\">  2899</td><td>{&#x27;admin_level&#x27;: None, &#x27;aeroway&#x27;: None, &#x27;amenity&#x27;: None, &#x27;barrier&#x27;: None, &#x27;boundary&#x27;: None, &#x27;building ...</td><td> </td><td>city   </td><td style=\"text-align: right;\"> 34929243</td><td>None</td></tr>\n",
       "<tr><td>2  </td><td>Feature</td><td style=\"text-align: right;\">415441</td><td>{&#x27;admin_level&#x27;: None, &#x27;aeroway&#x27;: None, &#x27;amenity&#x27;: None, &#x27;barrier&#x27;: None, &#x27;boundary&#x27;: None, &#x27;building ...</td><td> </td><td>city   </td><td style=\"text-align: right;\">637195949</td><td>None</td></tr>\n",
       "<tr><td>3  </td><td>Feature</td><td style=\"text-align: right;\">445798</td><td>{&#x27;admin_level&#x27;: None, &#x27;aeroway&#x27;: None, &#x27;amenity&#x27;: None, &#x27;barrier&#x27;: None, &#x27;boundary&#x27;: None, &#x27;building ...</td><td> </td><td>city   </td><td style=\"text-align: right;\">675627797</td><td>None</td></tr>\n",
       "<tr><td>4  </td><td>Feature</td><td style=\"text-align: right;\"> 16057</td><td>{&#x27;admin_level&#x27;: None, &#x27;aeroway&#x27;: None, &#x27;amenity&#x27;: None, &#x27;barrier&#x27;: None, &#x27;boundary&#x27;: None, &#x27;building ...</td><td> </td><td>hamlet </td><td style=\"text-align: right;\">120745730</td><td>None</td></tr>\n",
       "<tr><td>5  </td><td>Feature</td><td style=\"text-align: right;\">269566</td><td>{&#x27;admin_level&#x27;: None, &#x27;aeroway&#x27;: None, &#x27;amenity&#x27;: None, &#x27;barrier&#x27;: None, &#x27;boundary&#x27;: None, &#x27;building ...</td><td> </td><td>hamlet </td><td style=\"text-align: right;\">432757889</td><td>None</td></tr>\n",
       "<tr><td>6  </td><td>Feature</td><td style=\"text-align: right;\">269568</td><td>{&#x27;admin_level&#x27;: None, &#x27;aeroway&#x27;: None, &#x27;amenity&#x27;: None, &#x27;barrier&#x27;: None, &#x27;boundary&#x27;: None, &#x27;building ...</td><td> </td><td>hamlet </td><td style=\"text-align: right;\">432757891</td><td>None</td></tr>\n",
       "<tr><td>7  </td><td>Feature</td><td style=\"text-align: right;\">269569</td><td>{&#x27;admin_level&#x27;: None, &#x27;aeroway&#x27;: None, &#x27;amenity&#x27;: None, &#x27;barrier&#x27;: None, &#x27;boundary&#x27;: None, &#x27;building ...</td><td> </td><td>hamlet </td><td style=\"text-align: right;\">432757892</td><td>None</td></tr>\n",
       "<tr><td>8  </td><td>Feature</td><td style=\"text-align: right;\">269570</td><td>{&#x27;admin_level&#x27;: None, &#x27;aeroway&#x27;: None, &#x27;amenity&#x27;: None, &#x27;barrier&#x27;: None, &#x27;boundary&#x27;: None, &#x27;building ...</td><td> </td><td>hamlet </td><td style=\"text-align: right;\">432757893</td><td>None</td></tr>\n",
       "<tr><td>9  </td><td>Feature</td><td style=\"text-align: right;\">281869</td><td>{&#x27;admin_level&#x27;: None, &#x27;aeroway&#x27;: None, &#x27;amenity&#x27;: None, &#x27;barrier&#x27;: None, &#x27;boundary&#x27;: None, &#x27;building ...</td><td> </td><td>hamlet </td><td style=\"text-align: right;\">452985072</td><td>None</td></tr>\n",
       "<tr><td>10 </td><td>Feature</td><td style=\"text-align: right;\">316774</td><td>{&#x27;admin_level&#x27;: None, &#x27;aeroway&#x27;: None, &#x27;amenity&#x27;: None, &#x27;barrier&#x27;: None, &#x27;boundary&#x27;: None, &#x27;building ...</td><td> </td><td>hamlet </td><td style=\"text-align: right;\">502103410</td><td>None</td></tr>\n",
       "<tr><td>11 </td><td>Feature</td><td style=\"text-align: right;\">392339</td><td>{&#x27;admin_level&#x27;: None, &#x27;aeroway&#x27;: None, &#x27;amenity&#x27;: None, &#x27;barrier&#x27;: None, &#x27;boundary&#x27;: None, &#x27;building ...</td><td> </td><td>town   </td><td style=\"text-align: right;\">610626135</td><td>None</td></tr>\n",
       "<tr><td>12 </td><td>Feature</td><td style=\"text-align: right;\">434328</td><td>{&#x27;admin_level&#x27;: None, &#x27;aeroway&#x27;: None, &#x27;amenity&#x27;: None, &#x27;barrier&#x27;: None, &#x27;boundary&#x27;: None, &#x27;building ...</td><td> </td><td>town   </td><td style=\"text-align: right;\">663436505</td><td>None</td></tr>\n",
       "<tr><td>13 </td><td>Feature</td><td style=\"text-align: right;\">473864</td><td>{&#x27;admin_level&#x27;: None, &#x27;aeroway&#x27;: None, &#x27;amenity&#x27;: None, &#x27;barrier&#x27;: None, &#x27;boundary&#x27;: None, &#x27;building ...</td><td> </td><td>town   </td><td style=\"text-align: right;\">702433488</td><td>None</td></tr>\n",
       "<tr><td>14 </td><td>Feature</td><td style=\"text-align: right;\">491815</td><td>{&#x27;admin_level&#x27;: None, &#x27;aeroway&#x27;: None, &#x27;amenity&#x27;: None, &#x27;barrier&#x27;: None, &#x27;boundary&#x27;: None, &#x27;building ...</td><td> </td><td>town   </td><td style=\"text-align: right;\">749369975</td><td>None</td></tr>\n",
       "<tr><td>15 </td><td>Feature</td><td style=\"text-align: right;\">536262</td><td>{&#x27;admin_level&#x27;: None, &#x27;aeroway&#x27;: None, &#x27;amenity&#x27;: None, &#x27;barrier&#x27;: None, &#x27;boundary&#x27;: None, &#x27;building ...</td><td> </td><td>town   </td><td style=\"text-align: right;\">881912991</td><td>None</td></tr>\n",
       "<tr><td>16 </td><td>Feature</td><td style=\"text-align: right;\">  5193</td><td>{&#x27;admin_level&#x27;: None, &#x27;aeroway&#x27;: None, &#x27;amenity&#x27;: None, &#x27;barrier&#x27;: None, &#x27;boundary&#x27;: None, &#x27;building ...</td><td> </td><td>village</td><td style=\"text-align: right;\"> 86342235</td><td>None</td></tr>\n",
       "<tr><td>17 </td><td>Feature</td><td style=\"text-align: right;\">386592</td><td>{&#x27;admin_level&#x27;: None, &#x27;aeroway&#x27;: None, &#x27;amenity&#x27;: None, &#x27;barrier&#x27;: None, &#x27;boundary&#x27;: None, &#x27;building ...</td><td> </td><td>village</td><td style=\"text-align: right;\">605653857</td><td>None</td></tr>\n",
       "<tr><td>18 </td><td>Feature</td><td style=\"text-align: right;\">386628</td><td>{&#x27;admin_level&#x27;: None, &#x27;aeroway&#x27;: None, &#x27;amenity&#x27;: None, &#x27;barrier&#x27;: None, &#x27;boundary&#x27;: None, &#x27;building ...</td><td> </td><td>village</td><td style=\"text-align: right;\">605927534</td><td>None</td></tr>\n",
       "<tr><td>19 </td><td>Feature</td><td style=\"text-align: right;\">386629</td><td>{&#x27;admin_level&#x27;: None, &#x27;aeroway&#x27;: None, &#x27;amenity&#x27;: None, &#x27;barrier&#x27;: None, &#x27;boundary&#x27;: None, &#x27;building ...</td><td> </td><td>village</td><td style=\"text-align: right;\">605927538</td><td>None</td></tr>\n",
       "<tr><td>20 </td><td>Feature</td><td style=\"text-align: right;\">386630</td><td>{&#x27;admin_level&#x27;: None, &#x27;aeroway&#x27;: None, &#x27;amenity&#x27;: None, &#x27;barrier&#x27;: None, &#x27;boundary&#x27;: None, &#x27;building ...</td><td> </td><td>village</td><td style=\"text-align: right;\">605927542</td><td>None</td></tr>\n",
       "<tr><td>...</td><td>       </td><td style=\"text-align: right;\">      </td><td>                                                                                                        </td><td> </td><td>       </td><td style=\"text-align: right;\">         </td><td>    </td></tr>\n",
       "<tr><td>22 </td><td>Feature</td><td style=\"text-align: right;\">393796</td><td>{&#x27;admin_level&#x27;: None, &#x27;aeroway&#x27;: None, &#x27;amenity&#x27;: None, &#x27;barrier&#x27;: None, &#x27;boundary&#x27;: None, &#x27;building ...</td><td> </td><td>village</td><td style=\"text-align: right;\">614168322</td><td>None</td></tr>\n",
       "<tr><td>23 </td><td>Feature</td><td style=\"text-align: right;\">393801</td><td>{&#x27;admin_level&#x27;: None, &#x27;aeroway&#x27;: None, &#x27;amenity&#x27;: None, &#x27;barrier&#x27;: None, &#x27;boundary&#x27;: None, &#x27;building ...</td><td> </td><td>village</td><td style=\"text-align: right;\">614173564</td><td>None</td></tr>\n",
       "<tr><td>24 </td><td>Feature</td><td style=\"text-align: right;\">393917</td><td>{&#x27;admin_level&#x27;: None, &#x27;aeroway&#x27;: None, &#x27;amenity&#x27;: None, &#x27;barrier&#x27;: None, &#x27;boundary&#x27;: None, &#x27;building ...</td><td> </td><td>village</td><td style=\"text-align: right;\">614217402</td><td>None</td></tr>\n",
       "<tr><td>25 </td><td>Feature</td><td style=\"text-align: right;\">396240</td><td>{&#x27;admin_level&#x27;: None, &#x27;aeroway&#x27;: None, &#x27;amenity&#x27;: None, &#x27;barrier&#x27;: None, &#x27;boundary&#x27;: None, &#x27;building ...</td><td> </td><td>village</td><td style=\"text-align: right;\">616560049</td><td>None</td></tr>\n",
       "<tr><td>26 </td><td>Feature</td><td style=\"text-align: right;\">482189</td><td>{&#x27;admin_level&#x27;: None, &#x27;aeroway&#x27;: None, &#x27;amenity&#x27;: None, &#x27;barrier&#x27;: None, &#x27;boundary&#x27;: None, &#x27;building ...</td><td> </td><td>village</td><td style=\"text-align: right;\">724040810</td><td>None</td></tr>\n",
       "<tr><td>27 </td><td>Feature</td><td style=\"text-align: right;\">514788</td><td>{&#x27;admin_level&#x27;: None, &#x27;aeroway&#x27;: None, &#x27;amenity&#x27;: None, &#x27;barrier&#x27;: None, &#x27;boundary&#x27;: None, &#x27;building ...</td><td> </td><td>village</td><td style=\"text-align: right;\">800289869</td><td>None</td></tr>\n",
       "<tr><td>28 </td><td>Feature</td><td style=\"text-align: right;\">542513</td><td>{&#x27;admin_level&#x27;: None, &#x27;aeroway&#x27;: None, &#x27;amenity&#x27;: None, &#x27;barrier&#x27;: None, &#x27;boundary&#x27;: None, &#x27;building ...</td><td> </td><td>village</td><td style=\"text-align: right;\">897718793</td><td>None</td></tr>\n",
       "<tr><td>29 </td><td>Feature</td><td style=\"text-align: right;\">542514</td><td>{&#x27;admin_level&#x27;: None, &#x27;aeroway&#x27;: None, &#x27;amenity&#x27;: None, &#x27;barrier&#x27;: None, &#x27;boundary&#x27;: None, &#x27;building ...</td><td> </td><td>village</td><td style=\"text-align: right;\">897718794</td><td>None</td></tr>\n",
       "<tr><td>30 </td><td>Feature</td><td style=\"text-align: right;\">544374</td><td>{&#x27;admin_level&#x27;: None, &#x27;aeroway&#x27;: None, &#x27;amenity&#x27;: None, &#x27;barrier&#x27;: None, &#x27;boundary&#x27;: None, &#x27;building ...</td><td> </td><td>village</td><td style=\"text-align: right;\">907028108</td><td>None</td></tr>\n",
       "<tr><td>31 </td><td>Feature</td><td style=\"text-align: right;\">558087</td><td>{&#x27;admin_level&#x27;: None, &#x27;aeroway&#x27;: None, &#x27;amenity&#x27;: None, &#x27;barrier&#x27;: None, &#x27;boundary&#x27;: None, &#x27;building ...</td><td> </td><td>village</td><td style=\"text-align: right;\">927202144</td><td>None</td></tr>\n",
       "</tbody>\n",
       "</table>"
      ],
      "text/plain": [
       "<IPython.core.display.HTML object>"
      ]
     },
     "metadata": {},
     "output_type": "display_data"
    },
    {
     "data": {
      "text/html": [
       "<h3>res_2</h3>"
      ],
      "text/plain": [
       "<IPython.core.display.HTML object>"
      ]
     },
     "metadata": {},
     "output_type": "display_data"
    },
    {
     "data": {
      "text/html": [
       "<table>\n",
       "<thead>\n",
       "<tr><th style=\"text-align: right;\">  #</th><th>type\n",
       "(string)        </th><th style=\"text-align: right;\">       id\n",
       "(string)</th><th>properties\n",
       "(object)                                                                                                         </th><th>tags\n",
       "(string)  </th><th>place\n",
       "(string)        </th><th style=\"text-align: right;\">          osm_way_id\n",
       "(string)</th><th>name\n",
       "(array)     </th></tr>\n",
       "</thead>\n",
       "<tbody>\n",
       "<tr><td style=\"text-align: right;\">  1</td><td>Feature</td><td style=\"text-align: right;\"> 18321</td><td>{&#x27;admin_level&#x27;: None, &#x27;aeroway&#x27;: None, &#x27;amenity&#x27;: None, &#x27;barrier&#x27;: None, &#x27;boundary&#x27;: None, &#x27;building ...</td><td> </td><td>hamlet </td><td style=\"text-align: right;\">265587469</td><td>None</td></tr>\n",
       "<tr><td style=\"text-align: right;\">  2</td><td>Feature</td><td style=\"text-align: right;\"> 18331</td><td>{&#x27;admin_level&#x27;: None, &#x27;aeroway&#x27;: None, &#x27;amenity&#x27;: None, &#x27;barrier&#x27;: None, &#x27;boundary&#x27;: None, &#x27;building ...</td><td> </td><td>hamlet </td><td style=\"text-align: right;\">265595164</td><td>None</td></tr>\n",
       "<tr><td style=\"text-align: right;\">  3</td><td>Feature</td><td style=\"text-align: right;\">264508</td><td>{&#x27;admin_level&#x27;: None, &#x27;aeroway&#x27;: None, &#x27;amenity&#x27;: None, &#x27;barrier&#x27;: None, &#x27;boundary&#x27;: None, &#x27;building ...</td><td> </td><td>hamlet </td><td style=\"text-align: right;\">612000771</td><td>None</td></tr>\n",
       "<tr><td style=\"text-align: right;\">  4</td><td>Feature</td><td style=\"text-align: right;\">295934</td><td>{&#x27;admin_level&#x27;: None, &#x27;aeroway&#x27;: None, &#x27;amenity&#x27;: None, &#x27;barrier&#x27;: None, &#x27;boundary&#x27;: None, &#x27;building ...</td><td> </td><td>hamlet </td><td style=\"text-align: right;\">767112843</td><td>None</td></tr>\n",
       "<tr><td style=\"text-align: right;\">  5</td><td>Feature</td><td style=\"text-align: right;\"> 18317</td><td>{&#x27;admin_level&#x27;: None, &#x27;aeroway&#x27;: None, &#x27;amenity&#x27;: None, &#x27;barrier&#x27;: None, &#x27;boundary&#x27;: None, &#x27;building ...</td><td> </td><td>town   </td><td style=\"text-align: right;\">265587435</td><td>None</td></tr>\n",
       "<tr><td style=\"text-align: right;\">  6</td><td>Feature</td><td style=\"text-align: right;\"> 18319</td><td>{&#x27;admin_level&#x27;: None, &#x27;aeroway&#x27;: None, &#x27;amenity&#x27;: None, &#x27;barrier&#x27;: None, &#x27;boundary&#x27;: None, &#x27;building ...</td><td> </td><td>town   </td><td style=\"text-align: right;\">265587437</td><td>None</td></tr>\n",
       "<tr><td style=\"text-align: right;\">  7</td><td>Feature</td><td style=\"text-align: right;\"> 14947</td><td>{&#x27;admin_level&#x27;: None, &#x27;aeroway&#x27;: None, &#x27;amenity&#x27;: None, &#x27;barrier&#x27;: None, &#x27;boundary&#x27;: None, &#x27;building ...</td><td> </td><td>village</td><td style=\"text-align: right;\">242723361</td><td>None</td></tr>\n",
       "<tr><td style=\"text-align: right;\">  8</td><td>Feature</td><td style=\"text-align: right;\"> 16047</td><td>{&#x27;admin_level&#x27;: None, &#x27;aeroway&#x27;: None, &#x27;amenity&#x27;: None, &#x27;barrier&#x27;: None, &#x27;boundary&#x27;: None, &#x27;building ...</td><td> </td><td>village</td><td style=\"text-align: right;\">244087537</td><td>None</td></tr>\n",
       "<tr><td style=\"text-align: right;\">  9</td><td>Feature</td><td style=\"text-align: right;\"> 18322</td><td>{&#x27;admin_level&#x27;: None, &#x27;aeroway&#x27;: None, &#x27;amenity&#x27;: None, &#x27;barrier&#x27;: None, &#x27;boundary&#x27;: None, &#x27;building ...</td><td> </td><td>village</td><td style=\"text-align: right;\">265587470</td><td>None</td></tr>\n",
       "<tr><td style=\"text-align: right;\"> 10</td><td>Feature</td><td style=\"text-align: right;\"> 18323</td><td>{&#x27;admin_level&#x27;: None, &#x27;aeroway&#x27;: None, &#x27;amenity&#x27;: None, &#x27;barrier&#x27;: None, &#x27;boundary&#x27;: None, &#x27;building ...</td><td> </td><td>village</td><td style=\"text-align: right;\">265587471</td><td>None</td></tr>\n",
       "<tr><td style=\"text-align: right;\"> 11</td><td>Feature</td><td style=\"text-align: right;\"> 18324</td><td>{&#x27;admin_level&#x27;: None, &#x27;aeroway&#x27;: None, &#x27;amenity&#x27;: None, &#x27;barrier&#x27;: None, &#x27;boundary&#x27;: None, &#x27;building ...</td><td> </td><td>village</td><td style=\"text-align: right;\">265587472</td><td>None</td></tr>\n",
       "<tr><td style=\"text-align: right;\"> 12</td><td>Feature</td><td style=\"text-align: right;\"> 18333</td><td>{&#x27;admin_level&#x27;: None, &#x27;aeroway&#x27;: None, &#x27;amenity&#x27;: None, &#x27;barrier&#x27;: None, &#x27;boundary&#x27;: None, &#x27;building ...</td><td> </td><td>village</td><td style=\"text-align: right;\">265595166</td><td>None</td></tr>\n",
       "<tr><td style=\"text-align: right;\"> 13</td><td>Feature</td><td style=\"text-align: right;\"> 18336</td><td>{&#x27;admin_level&#x27;: None, &#x27;aeroway&#x27;: None, &#x27;amenity&#x27;: None, &#x27;barrier&#x27;: None, &#x27;boundary&#x27;: None, &#x27;building ...</td><td> </td><td>village</td><td style=\"text-align: right;\">265595169</td><td>None</td></tr>\n",
       "<tr><td style=\"text-align: right;\"> 14</td><td>Feature</td><td style=\"text-align: right;\"> 18337</td><td>{&#x27;admin_level&#x27;: None, &#x27;aeroway&#x27;: None, &#x27;amenity&#x27;: None, &#x27;barrier&#x27;: None, &#x27;boundary&#x27;: None, &#x27;building ...</td><td> </td><td>village</td><td style=\"text-align: right;\">265595170</td><td>None</td></tr>\n",
       "<tr><td style=\"text-align: right;\"> 15</td><td>Feature</td><td style=\"text-align: right;\"> 18338</td><td>{&#x27;admin_level&#x27;: None, &#x27;aeroway&#x27;: None, &#x27;amenity&#x27;: None, &#x27;barrier&#x27;: None, &#x27;boundary&#x27;: None, &#x27;building ...</td><td> </td><td>village</td><td style=\"text-align: right;\">265595172</td><td>None</td></tr>\n",
       "<tr><td style=\"text-align: right;\"> 16</td><td>Feature</td><td style=\"text-align: right;\"> 18340</td><td>{&#x27;admin_level&#x27;: None, &#x27;aeroway&#x27;: None, &#x27;amenity&#x27;: None, &#x27;barrier&#x27;: None, &#x27;boundary&#x27;: None, &#x27;building ...</td><td> </td><td>village</td><td style=\"text-align: right;\">265595178</td><td>None</td></tr>\n",
       "<tr><td style=\"text-align: right;\"> 17</td><td>Feature</td><td style=\"text-align: right;\"> 18345</td><td>{&#x27;admin_level&#x27;: None, &#x27;aeroway&#x27;: None, &#x27;amenity&#x27;: None, &#x27;barrier&#x27;: None, &#x27;boundary&#x27;: None, &#x27;building ...</td><td> </td><td>village</td><td style=\"text-align: right;\">265613975</td><td>None</td></tr>\n",
       "<tr><td style=\"text-align: right;\"> 18</td><td>Feature</td><td style=\"text-align: right;\"> 18351</td><td>{&#x27;admin_level&#x27;: None, &#x27;aeroway&#x27;: None, &#x27;amenity&#x27;: None, &#x27;barrier&#x27;: None, &#x27;boundary&#x27;: None, &#x27;building ...</td><td> </td><td>village</td><td style=\"text-align: right;\">265620022</td><td>None</td></tr>\n",
       "<tr><td style=\"text-align: right;\"> 19</td><td>Feature</td><td style=\"text-align: right;\"> 18352</td><td>{&#x27;admin_level&#x27;: None, &#x27;aeroway&#x27;: None, &#x27;amenity&#x27;: None, &#x27;barrier&#x27;: None, &#x27;boundary&#x27;: None, &#x27;building ...</td><td> </td><td>village</td><td style=\"text-align: right;\">265620023</td><td>None</td></tr>\n",
       "<tr><td style=\"text-align: right;\"> 20</td><td>Feature</td><td style=\"text-align: right;\"> 18353</td><td>{&#x27;admin_level&#x27;: None, &#x27;aeroway&#x27;: None, &#x27;amenity&#x27;: None, &#x27;barrier&#x27;: None, &#x27;boundary&#x27;: None, &#x27;building ...</td><td> </td><td>village</td><td style=\"text-align: right;\">265620024</td><td>None</td></tr>\n",
       "<tr><td style=\"text-align: right;\"> 21</td><td>Feature</td><td style=\"text-align: right;\"> 18358</td><td>{&#x27;admin_level&#x27;: None, &#x27;aeroway&#x27;: None, &#x27;amenity&#x27;: None, &#x27;barrier&#x27;: None, &#x27;boundary&#x27;: None, &#x27;building ...</td><td> </td><td>village</td><td style=\"text-align: right;\">265642946</td><td>None</td></tr>\n",
       "<tr><td style=\"text-align: right;\"> 22</td><td>Feature</td><td style=\"text-align: right;\">278450</td><td>{&#x27;admin_level&#x27;: None, &#x27;aeroway&#x27;: None, &#x27;amenity&#x27;: None, &#x27;barrier&#x27;: None, &#x27;boundary&#x27;: None, &#x27;building ...</td><td> </td><td>village</td><td style=\"text-align: right;\">724040810</td><td>None</td></tr>\n",
       "</tbody>\n",
       "</table>"
      ],
      "text/plain": [
       "<IPython.core.display.HTML object>"
      ]
     },
     "metadata": {},
     "output_type": "display_data"
    }
   ],
   "source": [
    "import dataflows as DF\n",
    "import fiona\n",
    "import pghstore\n",
    "from shapely.geometry import shape\n",
    "from shapely.ops import unary_union\n",
    "\n",
    "FILES = ['israel', 'palestine']\n",
    "sources = [fiona.open(f'{f}.osm.gpkg', layer='multipolygons').filter() for f in FILES]\n",
    "RANKS = dict(\n",
    "    city=0,\n",
    "    town=1,\n",
    "    village=2,\n",
    "    hamlet=3\n",
    ")\n",
    "\n",
    "def names(r):\n",
    "    ret = [v for k, v in r['properties'].items() if k.endswith('he')]\n",
    "    if len(ret) == 0:\n",
    "        name = r['properties'].get('name')\n",
    "        if name:\n",
    "            return [name]\n",
    "    else:\n",
    "        return ret\n",
    "\n",
    "r = DF.Flow(\n",
    "    *sources,\n",
    "    DF.add_field('tags', 'string', lambda r: r['properties'].get('other_tags') or ''),\n",
    "    lambda row: row['properties'].update(pghstore.loads(row['tags'])),\n",
    "    DF.add_field('place', 'string', lambda r: r['properties'].get('place')),\n",
    "    DF.add_field('osm_way_id', 'string', lambda r: r['properties'].get('osm_way_id')),\n",
    "    DF.filter_rows(lambda r: r['place'] in RANKS.keys()),\n",
    "    DF.filter_rows(lambda r: r['geometry'] and 'Polygon' in r['geometry']['type']),\n",
    "    DF.add_field('name', 'array', names),\n",
    "    DF.filter_rows(lambda r: r['name'] is None),\n",
    "    DF.sort_rows('{place}'),\n",
    "    DF.delete_fields(['geometry']),\n",
    "    DF.printer(tablefmt='html')\n",
    ").results()[0][0]\n"
   ]
  },
  {
   "cell_type": "code",
   "execution_count": null,
   "metadata": {},
   "outputs": [],
   "source": [
    "_"
   ]
  }
 ],
 "metadata": {
  "kernelspec": {
   "display_name": "Python 3",
   "language": "python",
   "name": "python3"
  },
  "language_info": {
   "codemirror_mode": {
    "name": "ipython",
    "version": 3
   },
   "file_extension": ".py",
   "mimetype": "text/x-python",
   "name": "python",
   "nbconvert_exporter": "python",
   "pygments_lexer": "ipython3",
   "version": "3.7.8"
  }
 },
 "nbformat": 4,
 "nbformat_minor": 4
}
