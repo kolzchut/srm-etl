{
 "cells": [
  {
   "cell_type": "markdown",
   "metadata": {},
   "source": [
    "## Download data from OSM"
   ]
  },
  {
   "cell_type": "code",
   "execution_count": 1,
   "metadata": {
    "scrolled": true
   },
   "outputs": [
    {
     "name": "stdout",
     "output_type": "stream",
     "text": [
      "--2021-10-18 13:24:07--  https://download.openstreetmap.fr/extracts/asia/israel.osm.pbf\n",
      "Resolving download.openstreetmap.fr (download.openstreetmap.fr)... 213.36.253.212\n",
      "Connecting to download.openstreetmap.fr (download.openstreetmap.fr)|213.36.253.212|:443... connected.\n",
      "HTTP request sent, awaiting response... 200 OK\n",
      "Length: 78213987 (75M)\n",
      "Saving to: ‘israel.osm.pbf’\n",
      "\n",
      "israel.osm.pbf      100%[===================>]  74.59M   741KB/s    in 1m 56s  \n",
      "\n",
      "2021-10-18 13:26:04 (658 KB/s) - ‘israel.osm.pbf’ saved [78213987/78213987]\n",
      "\n",
      "--2021-10-18 13:26:04--  https://download.openstreetmap.fr/extracts/asia/palestine.osm.pbf\n",
      "Resolving download.openstreetmap.fr (download.openstreetmap.fr)... 213.36.253.212\n",
      "Connecting to download.openstreetmap.fr (download.openstreetmap.fr)|213.36.253.212|:443... connected.\n",
      "HTTP request sent, awaiting response... 200 OK\n",
      "Length: 33084999 (32M)\n",
      "Saving to: ‘palestine.osm.pbf’\n",
      "\n",
      "palestine.osm.pbf   100%[===================>]  31.55M   948KB/s    in 43s     \n",
      "\n",
      "2021-10-18 13:26:47 (753 KB/s) - ‘palestine.osm.pbf’ saved [33084999/33084999]\n",
      "\n"
     ]
    }
   ],
   "source": [
    "!wget https://download.openstreetmap.fr/extracts/asia/israel.osm.pbf\n",
    "!wget https://download.openstreetmap.fr/extracts/asia/palestine.osm.pbf"
   ]
  },
  {
   "cell_type": "markdown",
   "metadata": {},
   "source": [
    "## Convert to gpkg"
   ]
  },
  {
   "cell_type": "code",
   "execution_count": 2,
   "metadata": {},
   "outputs": [
    {
     "name": "stdout",
     "output_type": "stream",
     "text": [
      "0...10...20...30...40...50...60...70...80...90...100 - done.\n",
      "0...10...20...30...40...50...60...70...80...90...100 - done.\n"
     ]
    }
   ],
   "source": [
    "!ogr2ogr israel.osm.gpkg israel.osm.pbf\n",
    "!ogr2ogr palestine.osm.gpkg palestine.osm.pbf"
   ]
  },
  {
   "cell_type": "code",
   "execution_count": 2,
   "metadata": {},
   "outputs": [
    {
     "data": {
      "text/plain": [
       "['points', 'lines', 'multilinestrings', 'multipolygons', 'other_relations']"
      ]
     },
     "execution_count": 2,
     "metadata": {},
     "output_type": "execute_result"
    }
   ],
   "source": [
    "import fiona\n",
    "fiona.listlayers('israel.osm.gpkg')"
   ]
  },
  {
   "cell_type": "markdown",
   "metadata": {},
   "source": [
    "## Hebrew Labels"
   ]
  },
  {
   "cell_type": "code",
   "execution_count": 1,
   "metadata": {},
   "outputs": [
    {
     "name": "stderr",
     "output_type": "stream",
     "text": [
      "/Users/adam/.pyenv/versions/3.7.8/lib/python3.7/site-packages/pandas/compat/__init__.py:120: UserWarning: Could not import the lzma module. Your installed Python is incomplete. Attempting to use lzma compression will result in a RuntimeError.\n",
      "  warnings.warn(msg)\n",
      "/Users/adam/.pyenv/versions/3.7.8/lib/python3.7/site-packages/dataflows/helpers/iterable_loader.py:89: RuntimeWarning: Sequential read of iterator was interrupted. Resetting iterator. This can negatively impact the performance.\n",
      "  for x in self.iterable:\n"
     ]
    },
    {
     "data": {
      "text/html": [
       "<h3>place_labels_he</h3>"
      ],
      "text/plain": [
       "<IPython.core.display.HTML object>"
      ]
     },
     "metadata": {},
     "output_type": "display_data"
    },
    {
     "data": {
      "text/html": [
       "<table>\n",
       "<thead>\n",
       "<tr><th>#   </th><th>place\n",
       "(string)        </th><th>name\n",
       "(string)                   </th><th>geometry\n",
       "(geopoint)                                         </th><th style=\"text-align: right;\">  rank\n",
       "(integer)</th></tr>\n",
       "</thead>\n",
       "<tbody>\n",
       "<tr><td>1   </td><td>city   </td><td>אילת              </td><td>[34.9497949, 29.5569348]                </td><td style=\"text-align: right;\">0</td></tr>\n",
       "<tr><td>2   </td><td>city   </td><td>ירושלים           </td><td>[35.2257626, 31.778824200000003]        </td><td style=\"text-align: right;\">0</td></tr>\n",
       "<tr><td>3   </td><td>village</td><td>יבנאל             </td><td>[35.5060043, 32.7026978]                </td><td style=\"text-align: right;\">2</td></tr>\n",
       "<tr><td>4   </td><td>town   </td><td>קיסריה            </td><td>[34.9057861, 32.5114971]                </td><td style=\"text-align: right;\">1</td></tr>\n",
       "<tr><td>5   </td><td>city   </td><td>נהריה             </td><td>[35.094557900000005, 33.006306]         </td><td style=\"text-align: right;\">0</td></tr>\n",
       "<tr><td>6   </td><td>village</td><td>שדות ים           </td><td>[34.8933053, 32.492159300000004]        </td><td style=\"text-align: right;\">2</td></tr>\n",
       "<tr><td>7   </td><td>city   </td><td>אשדוד             </td><td>[34.6529922, 31.797731400000004]        </td><td style=\"text-align: right;\">0</td></tr>\n",
       "<tr><td>8   </td><td>city   </td><td>חולון             </td><td>[34.780407600000004, 32.0193121]        </td><td style=\"text-align: right;\">0</td></tr>\n",
       "<tr><td>9   </td><td>town   </td><td>אור יהודה         </td><td>[34.8523936, 32.0309712]                </td><td style=\"text-align: right;\">1</td></tr>\n",
       "<tr><td>10  </td><td>city   </td><td>ראשון לציון       </td><td>[34.8101149, 31.9635712]                </td><td style=\"text-align: right;\">0</td></tr>\n",
       "<tr><td>11  </td><td>town   </td><td>נס ציונה          </td><td>[34.7990609, 31.929557700000004]        </td><td style=\"text-align: right;\">1</td></tr>\n",
       "<tr><td>12  </td><td>town   </td><td>נוף הגליל         </td><td>[35.318321600000004, 32.7023065]        </td><td style=\"text-align: right;\">1</td></tr>\n",
       "<tr><td>13  </td><td>village</td><td>אבו גוש           </td><td>[35.1088651, 31.806353]                 </td><td style=\"text-align: right;\">2</td></tr>\n",
       "<tr><td>14  </td><td>village</td><td>קרית יערים        </td><td>[35.1012545, 31.803512800000004]        </td><td style=\"text-align: right;\">2</td></tr>\n",
       "<tr><td>15  </td><td>town   </td><td>הר אדר            </td><td>[35.1295577, 31.826857]                 </td><td style=\"text-align: right;\">1</td></tr>\n",
       "<tr><td>16  </td><td>village</td><td>מעלה החמישה       </td><td>[35.1115939, 31.817485700000002]        </td><td style=\"text-align: right;\">2</td></tr>\n",
       "<tr><td>17  </td><td>town   </td><td>באר יעקב          </td><td>[34.8398648, 31.944353200000002]        </td><td style=\"text-align: right;\">1</td></tr>\n",
       "<tr><td>18  </td><td>village</td><td>גליל ים           </td><td>[34.829987100000004, 32.1568799]        </td><td style=\"text-align: right;\">2</td></tr>\n",
       "<tr><td>19  </td><td>village</td><td>בית יהושע         </td><td>[34.8660021, 32.259291600000005]        </td><td style=\"text-align: right;\">2</td></tr>\n",
       "<tr><td>20  </td><td>village</td><td>תל יצחק           </td><td>[34.8696976, 32.2527746]                </td><td style=\"text-align: right;\">2</td></tr>\n",
       "<tr><td>... </td><td>       </td><td>                  </td><td>                                        </td><td style=\"text-align: right;\"> </td></tr>\n",
       "<tr><td>100 </td><td>village</td><td>תל חי             </td><td>[35.578034, 33.2337137]                 </td><td style=\"text-align: right;\">2</td></tr>\n",
       "<tr><td>101 </td><td>town   </td><td>ראש פינה          </td><td>[35.5438245, 32.968215]                 </td><td style=\"text-align: right;\">1</td></tr>\n",
       "<tr><td>102 </td><td>village</td><td>כאוכב אבו אל-היג&#x27;א</td><td>[35.2494826, 32.8309185]                </td><td style=\"text-align: right;\">2</td></tr>\n",
       "<tr><td>103 </td><td>village</td><td>עין הוד           </td><td>[34.982596400000006, 32.700501700000004]</td><td style=\"text-align: right;\">2</td></tr>\n",
       "<tr><td>104 </td><td>village</td><td>חפציבה            </td><td>[35.425832400000004, 32.5181674]        </td><td style=\"text-align: right;\">2</td></tr>\n",
       "<tr><td>105 </td><td>town   </td><td>בני ברק           </td><td>[34.8324376, 32.087389900000005]        </td><td style=\"text-align: right;\">1</td></tr>\n",
       "<tr><td>106 </td><td>town   </td><td>גבעתיים           </td><td>[34.8113279, 32.0729606]                </td><td style=\"text-align: right;\">1</td></tr>\n",
       "<tr><td>107 </td><td>village</td><td>כפר חיים          </td><td>[34.9001418, 32.3539817]                </td><td style=\"text-align: right;\">2</td></tr>\n",
       "<tr><td>108 </td><td>village</td><td>משמר השרון        </td><td>[34.903359300000005, 32.3564792]        </td><td style=\"text-align: right;\">2</td></tr>\n",
       "<tr><td>109 </td><td>village</td><td>כפר מונש          </td><td>[34.9162242, 32.347534800000005]        </td><td style=\"text-align: right;\">2</td></tr>\n",
       "<tr><td>110 </td><td>village</td><td>ינוב              </td><td>[34.9504619, 32.3060551]                </td><td style=\"text-align: right;\">2</td></tr>\n",
       "<tr><td>... </td><td>       </td><td>                  </td><td>                                        </td><td style=\"text-align: right;\"> </td></tr>\n",
       "<tr><td>1000</td><td>village</td><td>פלך               </td><td>[35.2335678, 32.9338767]                </td><td style=\"text-align: right;\">2</td></tr>\n",
       "<tr><td>1001</td><td>village</td><td>ערב א-נעים        </td><td>[35.2895564, 32.8878763]                </td><td style=\"text-align: right;\">2</td></tr>\n",
       "<tr><td>1002</td><td>village</td><td>אשבל              </td><td>[35.3049739, 32.876801]                 </td><td style=\"text-align: right;\">2</td></tr>\n",
       "<tr><td>1003</td><td>village</td><td>מנוף              </td><td>[35.2367706, 32.854133600000004]        </td><td style=\"text-align: right;\">2</td></tr>\n",
       "<tr><td>1004</td><td>village</td><td>גבעת אלה          </td><td>[35.2448953, 32.7208483]                </td><td style=\"text-align: right;\">2</td></tr>\n",
       "<tr><td>1005</td><td>village</td><td>שמשית             </td><td>[35.2472359, 32.7328247]                </td><td style=\"text-align: right;\">2</td></tr>\n",
       "<tr><td>1006</td><td>village</td><td>נוה שלום          </td><td>[34.9781914, 31.8175068]                </td><td style=\"text-align: right;\">2</td></tr>\n",
       "<tr><td>1007</td><td>village</td><td>אניעם             </td><td>[35.7397621, 32.956870800000004]        </td><td style=\"text-align: right;\">2</td></tr>\n",
       "<tr><td>1008</td><td>village</td><td>קשת               </td><td>[35.8085857, 32.980733]                 </td><td style=\"text-align: right;\">2</td></tr>\n",
       "<tr><td>1009</td><td>village</td><td>אלון הגליל        </td><td>[35.2199802, 32.7571188]                </td><td style=\"text-align: right;\">2</td></tr>\n",
       "<tr><td>1010</td><td>village</td><td>גן נר             </td><td>[35.339111800000005, 32.5308688]        </td><td style=\"text-align: right;\">2</td></tr>\n",
       "<tr><td>... </td><td>       </td><td>                  </td><td>                                        </td><td style=\"text-align: right;\"> </td></tr>\n",
       "<tr><td>2308</td><td>village</td><td>ח&#x27;רבת ג&#x27;בארה      </td><td>[35.041883000000006, 32.268979300000005]</td><td style=\"text-align: right;\">2</td></tr>\n",
       "<tr><td>2309</td><td>hamlet </td><td>אל מסקופה         </td><td>[35.0586532, 32.3369437]                </td><td style=\"text-align: right;\">3</td></tr>\n",
       "<tr><td>2310</td><td>hamlet </td><td>מעוז אסתר         </td><td>[35.3440579, 31.967919100000003]        </td><td style=\"text-align: right;\">3</td></tr>\n",
       "<tr><td>2311</td><td>village</td><td>עוז ציון          </td><td>[35.2499717, 31.9092619]                </td><td style=\"text-align: right;\">2</td></tr>\n",
       "<tr><td>2312</td><td>hamlet </td><td>מצפה חגית         </td><td>[35.3380634, 31.851244800000003]        </td><td style=\"text-align: right;\">3</td></tr>\n",
       "<tr><td>2313</td><td>hamlet </td><td>אביתר             </td><td>[35.2747395, 32.1197691]                </td><td style=\"text-align: right;\">3</td></tr>\n",
       "<tr><td>2314</td><td>hamlet </td><td>אעירה שחר         </td><td>[35.368849600000004, 31.951456200000003]</td><td style=\"text-align: right;\">3</td></tr>\n",
       "<tr><td>2315</td><td>hamlet </td><td>קול דודי          </td><td>[35.343302300000005, 31.946170600000002]</td><td style=\"text-align: right;\">3</td></tr>\n",
       "<tr><td>2316</td><td>hamlet </td><td>גבעת רש&quot;י         </td><td>[35.162141600000005, 32.2193069]        </td><td style=\"text-align: right;\">3</td></tr>\n",
       "<tr><td>2317</td><td>hamlet </td><td>רמת מגרון         </td><td>[35.2694168, 31.886857300000003]        </td><td style=\"text-align: right;\">3</td></tr>\n",
       "</tbody>\n",
       "</table>"
      ],
      "text/plain": [
       "<IPython.core.display.HTML object>"
      ]
     },
     "metadata": {},
     "output_type": "display_data"
    }
   ],
   "source": [
    "import dataflows as DF\n",
    "import fiona\n",
    "import pghstore\n",
    "\n",
    "FILES = ['israel', 'palestine']\n",
    "sources = [fiona.open(f'{f}.osm.gpkg', layer='points').filter() for f in FILES]\n",
    "RANKS = dict(\n",
    "    city=0,\n",
    "    town=1,\n",
    "    village=2,\n",
    "    hamlet=3\n",
    ")\n",
    "\n",
    "dp = DF.Flow(\n",
    "    *sources,\n",
    "    DF.add_field('place', 'string', lambda r: r['properties'].get('place')),\n",
    "    DF.add_field('orig_name', 'string', lambda r: r['properties'].get('name')),\n",
    "    DF.add_field('tags', 'string', lambda r: r['properties'].get('other_tags') or ''),\n",
    "    lambda row: row['properties'].update(pghstore.loads(row['tags'])),\n",
    "    DF.filter_rows(lambda r: r['place'] in RANKS.keys()),\n",
    "    DF.filter_rows(lambda r: r['geometry'] and r['geometry']['type'] == 'Point'),\n",
    "    DF.add_field('name', 'string', lambda r: r['properties'].get('name:he') or r['orig_name']),\n",
    "    DF.add_field('rank', 'integer', lambda r: RANKS.get(r['place'])),\n",
    "    DF.select_fields(['place', 'name', 'geometry', 'rank']),\n",
    "    DF.concatenate(\n",
    "        dict((k, []) for k in ['place', 'name', 'geometry', 'rank']),\n",
    "        target=dict(name='place_labels_he', path='./place_labels_he.geojson')\n",
    "    ),\n",
    "    DF.set_type('geometry', type='geopoint', transform=lambda v: list(v['coordinates']), resources=None),\n",
    "    DF.dump_to_path('data/place_labels_he', force_format=False),\n",
    "#     DF.printer(tablefmt='html')\n",
    ").process()"
   ]
  },
  {
   "cell_type": "markdown",
   "metadata": {},
   "source": [
    "## Locations and Bounds"
   ]
  },
  {
   "cell_type": "code",
   "execution_count": 1,
   "metadata": {},
   "outputs": [
    {
     "name": "stderr",
     "output_type": "stream",
     "text": [
      "/Users/adam/.pyenv/versions/3.7.8/lib/python3.7/site-packages/pandas/compat/__init__.py:120: UserWarning: Could not import the lzma module. Your installed Python is incomplete. Attempting to use lzma compression will result in a RuntimeError.\n",
      "  warnings.warn(msg)\n",
      "/Users/adam/.pyenv/versions/3.7.8/lib/python3.7/site-packages/dataflows/helpers/iterable_loader.py:89: RuntimeWarning: Sequential read of iterator was interrupted. Resetting iterator. This can negatively impact the performance.\n",
      "  for x in self.iterable:\n"
     ]
    },
    {
     "data": {
      "text/html": [
       "<h3>place_bounds_he</h3>"
      ],
      "text/plain": [
       "<IPython.core.display.HTML object>"
      ]
     },
     "metadata": {},
     "output_type": "display_data"
    },
    {
     "data": {
      "text/html": [
       "<table>\n",
       "<thead>\n",
       "<tr><th>#   </th><th>place\n",
       "(string)        </th><th>name\n",
       "(array)                </th><th>bounds\n",
       "(array)                                                 </th></tr>\n",
       "</thead>\n",
       "<tbody>\n",
       "<tr><td>1   </td><td>town   </td><td>[&#x27;מטולה&#x27;]      </td><td>[35.5566165, 33.2479139, 35.596579, 33.2904182] </td></tr>\n",
       "<tr><td>2   </td><td>city   </td><td>[&#x27;אשדוד&#x27;]      </td><td>[34.6088045, 31.7531554, 34.7102646, 31.8728243]</td></tr>\n",
       "<tr><td>3   </td><td>city   </td><td>[&#x27;בת ים&#x27;]      </td><td>[34.7287471, 31.9924905, 34.7619431, 32.0337564]</td></tr>\n",
       "<tr><td>4   </td><td>city   </td><td>[&#x27;חולון&#x27;]      </td><td>[34.7552863, 31.9887223, 34.8147651, 32.0386707]</td></tr>\n",
       "<tr><td>5   </td><td>town   </td><td>[&#x27;רמת גן&#x27;]     </td><td>[34.7991223, 32.036093, 34.8545946, 32.1055761] </td></tr>\n",
       "<tr><td>6   </td><td>city   </td><td>[&#x27;תל אביב-יפו&#x27;]</td><td>[34.739131, 32.0293437, 34.8522454, 32.1469766] </td></tr>\n",
       "<tr><td>7   </td><td>town   </td><td>[&#x27;בני ברק&#x27;]    </td><td>[34.8214289, 32.0690056, 34.8492904, 32.1084192]</td></tr>\n",
       "<tr><td>8   </td><td>town   </td><td>[&#x27;הרצליה&#x27;]     </td><td>[34.7876295, 32.1440272, 34.8645831, 32.2029179]</td></tr>\n",
       "<tr><td>9   </td><td>town   </td><td>[&#x27;גבעתיים&#x27;]    </td><td>[34.7978591, 32.0584284, 34.8207366, 32.0818757]</td></tr>\n",
       "<tr><td>10  </td><td>town   </td><td>[&#x27;רמאללה&#x27;]     </td><td>[35.1645328, 31.8838703, 35.210244, 31.929562]  </td></tr>\n",
       "<tr><td>11  </td><td>village</td><td>[&quot;ביר אל-עג&#x27;ם&quot;]</td><td>[35.8645683, 33.0492665, 35.871293, 33.0600214] </td></tr>\n",
       "<tr><td>12  </td><td>town   </td><td>[&#x27;קצרין&#x27;]      </td><td>[35.6739762, 32.984458, 35.7007516, 33.0006309] </td></tr>\n",
       "<tr><td>13  </td><td>village</td><td>[&#x27;מעלה גלבוע&#x27;] </td><td>[35.4119903, 32.4725779, 35.4272157, 32.4813123]</td></tr>\n",
       "<tr><td>14  </td><td>city   </td><td>[&#x27;בת ים&#x27;]      </td><td>[34.735532, 32.0019016, 34.7619431, 32.0335029] </td></tr>\n",
       "<tr><td>15  </td><td>town   </td><td>[&#x27;זכרון יעקב&#x27;] </td><td>[34.9383213, 32.5567254, 34.9675286, 32.5904329]</td></tr>\n",
       "<tr><td>16  </td><td>village</td><td>[&quot;ביר הדאג&#x27;&quot;]  </td><td>[34.6781835, 31.0063183, 34.7539072, 31.0544397]</td></tr>\n",
       "<tr><td>17  </td><td>village</td><td>[&#x27;לוטם&#x27;]       </td><td>[35.3535046, 32.878271, 35.364882, 32.8868624]  </td></tr>\n",
       "<tr><td>18  </td><td>village</td><td>[&#x27;נחשולים&#x27;]    </td><td>[34.9169941, 32.6106379, 34.9255799, 32.6175591]</td></tr>\n",
       "<tr><td>19  </td><td>village</td><td>[&#x27;כפר חרוב&#x27;]   </td><td>[35.658069, 32.7576494, 35.6698472, 32.7666174] </td></tr>\n",
       "<tr><td>20  </td><td>village</td><td>[&#x27;בית גוברין&#x27;] </td><td>[34.8908554, 31.6087114, 34.9032244, 31.616902] </td></tr>\n",
       "<tr><td>... </td><td>       </td><td>               </td><td>                                                </td></tr>\n",
       "<tr><td>100 </td><td>village</td><td>[&#x27;גנות הדר&#x27;]   </td><td>[34.8960375, 32.3161301, 34.9039554, 32.323622] </td></tr>\n",
       "<tr><td>101 </td><td>village</td><td>[&#x27;בני דרור&#x27;]   </td><td>[34.89245, 32.258725, 34.9057935, 32.2655027]   </td></tr>\n",
       "<tr><td>102 </td><td>village</td><td>[&#x27;תל יצחק&#x27;]    </td><td>[34.8641768, 32.2480324, 34.8760462, 32.2552894]</td></tr>\n",
       "<tr><td>103 </td><td>village</td><td>[&#x27;משמרת&#x27;]      </td><td>[34.9118088, 32.2213788, 34.9271185, 32.2341236]</td></tr>\n",
       "<tr><td>104 </td><td>village</td><td>[&#x27;גן חיים&#x27;]    </td><td>[34.8987599, 32.1907357, 34.9124328, 32.1991612]</td></tr>\n",
       "<tr><td>105 </td><td>village</td><td>[&#x27;חניאל&#x27;]      </td><td>[34.9431944, 32.3282253, 34.9552455, 32.338945] </td></tr>\n",
       "<tr><td>106 </td><td>village</td><td>[&#x27;בורגתה&#x27;]     </td><td>[34.9565897, 32.3172288, 34.968137, 32.3332642] </td></tr>\n",
       "<tr><td>107 </td><td>village</td><td>[&#x27;עולש&#x27;]       </td><td>[34.9749709, 32.3250915, 34.9947671, 32.3399398]</td></tr>\n",
       "<tr><td>108 </td><td>village</td><td>[&#x27;כפר הס&#x27;]     </td><td>[34.9261409, 32.2407212, 34.9405061, 32.2502966]</td></tr>\n",
       "<tr><td>109 </td><td>village</td><td>[&#x27;הבונים&#x27;]     </td><td>[34.9302688, 32.6310272, 34.9359658, 32.640603] </td></tr>\n",
       "<tr><td>110 </td><td>village</td><td>[&#x27;מעגן מיכאל&#x27;] </td><td>[34.9119337, 32.5497044, 34.9205493, 32.5611434]</td></tr>\n",
       "<tr><td>... </td><td>       </td><td>               </td><td>                                                </td></tr>\n",
       "<tr><td>1000</td><td>village</td><td>[&#x27;בית עזרא&#x27;]   </td><td>[34.6467321, 31.7286774, 34.6626234, 31.7453499]</td></tr>\n",
       "<tr><td>1001</td><td>village</td><td>[&#x27;גבעתי&#x27;]      </td><td>[34.6730263, 31.7255686, 34.6882827, 31.7402365]</td></tr>\n",
       "<tr><td>1002</td><td>hamlet </td><td>[&#x27;עזר&#x27;]        </td><td>[34.6674943, 31.734796, 34.6738761, 31.7385068] </td></tr>\n",
       "<tr><td>1003</td><td>village</td><td>[&#x27;שדה עוזיהו&#x27;] </td><td>[34.6713827, 31.7495211, 34.6839354, 31.763986] </td></tr>\n",
       "<tr><td>1004</td><td>village</td><td>[&#x27;אמונים&#x27;]     </td><td>[34.6665088, 31.7382725, 34.6856107, 31.7492723]</td></tr>\n",
       "<tr><td>1005</td><td>village</td><td>[&#x27;תפרח&#x27;]       </td><td>[34.6655809, 31.3199025, 34.6877075, 31.3320363]</td></tr>\n",
       "<tr><td>1006</td><td>village</td><td>[&#x27;שער העמקים&#x27;] </td><td>[35.1071123, 32.7198479, 35.1196474, 32.7260257]</td></tr>\n",
       "<tr><td>1007</td><td>village</td><td>[&#x27;אלונים&#x27;]     </td><td>[35.1402127, 32.716564, 35.148307, 32.7235689]  </td></tr>\n",
       "<tr><td>1008</td><td>village</td><td>[&#x27;צור משה&#x27;]    </td><td>[34.9032339, 32.2904452, 34.9224538, 32.3033799]</td></tr>\n",
       "<tr><td>1009</td><td>village</td><td>[&#x27;גאולים&#x27;]     </td><td>[34.9375157, 32.2943648, 34.9554154, 32.3047546]</td></tr>\n",
       "<tr><td>1010</td><td>village</td><td>[&#x27;תנובות&#x27;]     </td><td>[34.9580976, 32.3002268, 34.966715, 32.3097756] </td></tr>\n",
       "<tr><td>... </td><td>       </td><td>               </td><td>                                                </td></tr>\n",
       "<tr><td>1515</td><td>village</td><td>[&#x27;צור יצחק&#x27;]   </td><td>[34.9930247, 32.2379967, 35.004805, 32.2447341] </td></tr>\n",
       "<tr><td>1516</td><td>village</td><td>[&#x27;צור נתן&#x27;]    </td><td>[35.0089318, 32.2389801, 35.0161955, 32.2429721]</td></tr>\n",
       "<tr><td>1517</td><td>town   </td><td>[&#x27;חריש&#x27;]       </td><td>[35.036437, 32.4512672, 35.0624768, 32.4717041] </td></tr>\n",
       "<tr><td>1518</td><td>village</td><td>[&#x27;רותם&#x27;]       </td><td>[35.5175901, 32.3349512, 35.5232693, 32.340199] </td></tr>\n",
       "<tr><td>1519</td><td>hamlet </td><td>[&#x27;אל חפאסי&#x27;]   </td><td>[35.1268892, 32.2870373, 35.1280789, 32.2883136]</td></tr>\n",
       "<tr><td>1520</td><td>village</td><td>[&#x27;כיסופים&#x27;]    </td><td>[34.3947065, 31.371877, 34.4025385, 31.3786504] </td></tr>\n",
       "<tr><td>1521</td><td>village</td><td>[&#x27;בית נקופה&#x27;]  </td><td>[35.1230538, 31.8013648, 35.1281016, 31.8081149]</td></tr>\n",
       "<tr><td>1522</td><td>village</td><td>[&#x27;קריית ענבים&#x27;]</td><td>[35.1152449, 31.8088668, 35.1212137, 31.8124614]</td></tr>\n",
       "<tr><td>1523</td><td>village</td><td>[&#x27;בני דקלים&#x27;]  </td><td>[34.9113868, 31.5144701, 34.924858, 31.5239231] </td></tr>\n",
       "<tr><td>1524</td><td>village</td><td>[&#x27;אליאב&#x27;]      </td><td>[34.9256231, 31.5276312, 34.9340935, 31.5314267]</td></tr>\n",
       "</tbody>\n",
       "</table>"
      ],
      "text/plain": [
       "<IPython.core.display.HTML object>"
      ]
     },
     "metadata": {},
     "output_type": "display_data"
    },
    {
     "ename": "AttributeError",
     "evalue": "'tuple' object has no attribute 'resources'",
     "output_type": "error",
     "traceback": [
      "\u001b[0;31m---------------------------------------------------------------------------\u001b[0m",
      "\u001b[0;31mAttributeError\u001b[0m                            Traceback (most recent call last)",
      "\u001b[0;32m<ipython-input-1-c50d82e69b23>\u001b[0m in \u001b[0;36m<module>\u001b[0;34m\u001b[0m\n\u001b[1;32m     49\u001b[0m     \u001b[0mDF\u001b[0m\u001b[0;34m.\u001b[0m\u001b[0mprinter\u001b[0m\u001b[0;34m(\u001b[0m\u001b[0mtablefmt\u001b[0m\u001b[0;34m=\u001b[0m\u001b[0;34m'html'\u001b[0m\u001b[0;34m)\u001b[0m\u001b[0;34m\u001b[0m\u001b[0;34m\u001b[0m\u001b[0m\n\u001b[1;32m     50\u001b[0m ).process()\n\u001b[0;32m---> 51\u001b[0;31m \u001b[0mdp\u001b[0m\u001b[0;34m.\u001b[0m\u001b[0mresources\u001b[0m\u001b[0;34m[\u001b[0m\u001b[0;36m0\u001b[0m\u001b[0;34m]\u001b[0m\u001b[0;34m.\u001b[0m\u001b[0mdescriptor\u001b[0m\u001b[0;34m\u001b[0m\u001b[0;34m\u001b[0m\u001b[0m\n\u001b[0m",
      "\u001b[0;31mAttributeError\u001b[0m: 'tuple' object has no attribute 'resources'"
     ]
    }
   ],
   "source": [
    "import dataflows as DF\n",
    "import fiona\n",
    "import pghstore\n",
    "from shapely.geometry import shape\n",
    "\n",
    "FILES = ['israel', 'palestine']\n",
    "sources = [fiona.open(f'{f}.osm.gpkg', layer='multipolygons').filter() for f in FILES]\n",
    "RANKS = dict(\n",
    "    city=0,\n",
    "    town=1,\n",
    "    village=2,\n",
    "    hamlet=3\n",
    ")\n",
    "\n",
    "def names(r):\n",
    "    ret = [v for k, v in r['properties'].items() if k.endswith('he')]\n",
    "    if len(ret) == 0:\n",
    "        name = r['properties'].get('name')\n",
    "        if name:\n",
    "            return [name]\n",
    "    else:\n",
    "        return ret\n",
    "    \n",
    "def bounds(r):\n",
    "    geometry = r['geometry']\n",
    "    geometry = shape(geometry)\n",
    "    bounds = geometry.bounds\n",
    "    return bounds\n",
    "\n",
    "dp, _ = DF.Flow(\n",
    "    *sources,\n",
    "    DF.add_field('place', 'string', lambda r: r['properties'].get('place')),\n",
    "    DF.add_field('tags', 'string', lambda r: r['properties'].get('other_tags') or ''),\n",
    "    DF.filter_rows(lambda r: r['place'] in RANKS.keys()),\n",
    "    DF.filter_rows(lambda r: r['geometry'] and 'Polygon' in r['geometry']['type']),\n",
    "    lambda row: row['properties'].update(pghstore.loads(row['tags'])),\n",
    "    DF.add_field('name', 'array', names),\n",
    "    DF.filter_rows(lambda r: r['name'] is not None),\n",
    "    DF.add_field('bounds', 'array', bounds),\n",
    "    DF.select_fields(['place', 'name', 'bounds']),\n",
    "    DF.concatenate(\n",
    "        dict((k, []) for k in ['place', 'name', 'bounds']),\n",
    "    ),\n",
    "    DF.update_resource(-1, name='place_bounds_he', path='place_bounds_he.csv'),\n",
    "    DF.set_type('bounds', **{'es:index': False}),\n",
    "    DF.set_type('place', **{'es:keyword': True}),\n",
    "    DF.set_type('name', **{'es:itemType': 'string'}),\n",
    "    DF.dump_to_zip('data/place_bounds_he.zip'),\n",
    "    DF.printer(tablefmt='html')\n",
    ").process()\n",
    "dp.resources[0].descriptor"
   ]
  },
  {
   "cell_type": "code",
   "execution_count": null,
   "metadata": {},
   "outputs": [],
   "source": []
  }
 ],
 "metadata": {
  "kernelspec": {
   "display_name": "Python 3",
   "language": "python",
   "name": "python3"
  },
  "language_info": {
   "codemirror_mode": {
    "name": "ipython",
    "version": 3
   },
   "file_extension": ".py",
   "mimetype": "text/x-python",
   "name": "python",
   "nbconvert_exporter": "python",
   "pygments_lexer": "ipython3",
   "version": "3.7.8"
  }
 },
 "nbformat": 4,
 "nbformat_minor": 4
}
